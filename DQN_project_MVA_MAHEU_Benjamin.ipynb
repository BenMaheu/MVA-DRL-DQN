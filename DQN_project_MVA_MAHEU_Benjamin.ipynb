{
  "nbformat": 4,
  "nbformat_minor": 0,
  "metadata": {
    "kernelspec": {
      "name": "python3",
      "display_name": "Python 3"
    },
    "language_info": {
      "codemirror_mode": {
        "name": "ipython",
        "version": 3
      },
      "file_extension": ".py",
      "mimetype": "text/x-python",
      "name": "python",
      "nbconvert_exporter": "python",
      "pygments_lexer": "ipython3",
      "version": "3.5.7"
    },
    "colab": {
      "name": "DQN_project_MVA_MAHEU_Benjamin.ipynb",
      "provenance": [],
      "collapsed_sections": [],
      "toc_visible": true
    },
    "accelerator": "GPU"
  },
  "cells": [
    {
      "cell_type": "markdown",
      "metadata": {
        "id": "HbAw0QdGSsN9",
        "colab_type": "text"
      },
      "source": [
        "**You may need to install [OpenCV](https://pypi.python.org/pypi/opencv-python) and [scikit-video](http://www.scikit-video.org/stable/).**"
      ]
    },
    {
      "cell_type": "code",
      "metadata": {
        "id": "EmpKOQGQTeC7",
        "colab_type": "code",
        "outputId": "d1cd3807-a671-49f1-ab01-1b9fe1a61d4c",
        "colab": {
          "base_uri": "https://localhost:8080/",
          "height": 173
        }
      },
      "source": [
        "!pip3 install scikit-video"
      ],
      "execution_count": 2,
      "outputs": [
        {
          "output_type": "stream",
          "text": [
            "Collecting scikit-video\n",
            "\u001b[?25l  Downloading https://files.pythonhosted.org/packages/b1/a6/c69cad508139a342810ae46e946ebb3256aa6e42f690d901bb68f50582e3/scikit_video-1.1.11-py2.py3-none-any.whl (2.3MB)\n",
            "\u001b[K     |████████████████████████████████| 2.3MB 3.3MB/s \n",
            "\u001b[?25hRequirement already satisfied: numpy in /usr/local/lib/python3.6/dist-packages (from scikit-video) (1.17.5)\n",
            "Requirement already satisfied: pillow in /usr/local/lib/python3.6/dist-packages (from scikit-video) (6.2.2)\n",
            "Requirement already satisfied: scipy in /usr/local/lib/python3.6/dist-packages (from scikit-video) (1.4.1)\n",
            "Installing collected packages: scikit-video\n",
            "Successfully installed scikit-video-1.1.11\n"
          ],
          "name": "stdout"
        }
      ]
    },
    {
      "cell_type": "code",
      "metadata": {
        "id": "-tBFcxFZSsN-",
        "colab_type": "code",
        "outputId": "3e6f50c4-f64c-4b24-a384-1c29cc430910",
        "colab": {
          "base_uri": "https://localhost:8080/",
          "height": 80
        }
      },
      "source": [
        "import keras\n",
        "import numpy as np\n",
        "import io\n",
        "import base64\n",
        "from IPython.display import HTML\n",
        "import skvideo.io\n",
        "import cv2\n",
        "import json\n",
        "import random\n",
        "\n",
        "\n",
        "from keras.models import Sequential,model_from_json\n",
        "from keras.layers.core import Dense, Flatten\n",
        "from keras.optimizers import sgd\n",
        "from keras.layers import Conv2D, MaxPooling2D, Activation, AveragePooling2D,Reshape,BatchNormalization"
      ],
      "execution_count": 3,
      "outputs": [
        {
          "output_type": "stream",
          "text": [
            "Using TensorFlow backend.\n"
          ],
          "name": "stderr"
        },
        {
          "output_type": "display_data",
          "data": {
            "text/html": [
              "<p style=\"color: red;\">\n",
              "The default version of TensorFlow in Colab will soon switch to TensorFlow 2.x.<br>\n",
              "We recommend you <a href=\"https://www.tensorflow.org/guide/migrate\" target=\"_blank\">upgrade</a> now \n",
              "or ensure your notebook will continue to use TensorFlow 1.x via the <code>%tensorflow_version 1.x</code> magic:\n",
              "<a href=\"https://colab.research.google.com/notebooks/tensorflow_version.ipynb\" target=\"_blank\">more info</a>.</p>\n"
            ],
            "text/plain": [
              "<IPython.core.display.HTML object>"
            ]
          },
          "metadata": {
            "tags": []
          }
        }
      ]
    },
    {
      "cell_type": "code",
      "metadata": {
        "id": "8lCRmRIQDwek",
        "colab_type": "code",
        "colab": {}
      },
      "source": [
        "import keras\n",
        "import tensorflow as tf\n",
        "\n",
        "config = tf.ConfigProto( device_count = {'GPU': 1 , 'CPU': 56} ) \n",
        "sess = tf.Session(config=config) \n",
        "keras.backend.set_session(sess)"
      ],
      "execution_count": 0,
      "outputs": []
    },
    {
      "cell_type": "code",
      "metadata": {
        "id": "y2S7JL2RETn6",
        "colab_type": "code",
        "outputId": "73663025-79b7-4d64-8165-ae0a744f3cd5",
        "colab": {
          "base_uri": "https://localhost:8080/",
          "height": 34
        }
      },
      "source": [
        "print(\"GPU Available: \", tf.test.is_gpu_available(cuda_only=True))"
      ],
      "execution_count": 5,
      "outputs": [
        {
          "output_type": "stream",
          "text": [
            "GPU Available:  True\n"
          ],
          "name": "stdout"
        }
      ]
    },
    {
      "cell_type": "markdown",
      "metadata": {
        "id": "gw_2525aSsOA",
        "colab_type": "text"
      },
      "source": [
        "# MiniProject on Deep Reinforcement Learning"
      ]
    },
    {
      "cell_type": "markdown",
      "metadata": {
        "id": "rkoMV_82SsOB",
        "colab_type": "text"
      },
      "source": [
        "__Notations__: $E_p$ is the expectation under probability $p$. Please justify each of your answer and widely comment your code."
      ]
    },
    {
      "cell_type": "markdown",
      "metadata": {
        "id": "J7Rz44INSsOB",
        "colab_type": "text"
      },
      "source": [
        "# Context"
      ]
    },
    {
      "cell_type": "markdown",
      "metadata": {
        "id": "fZ_32xvvSsOC",
        "colab_type": "text"
      },
      "source": [
        "In a reinforcement learning algorithm, we modelize each step $t$ as an action $a_t$ obtained from a state $s_t$, i.e. $\\{(a_{t},s_{t})_{t\\leq T}\\}$ having the Markov property. We consider a discount factor $\\gamma \\in [0,1]$ that ensures convergence. The goal is to find among all the policies $\\pi$, one that maximizes the expected reward:\n",
        "\n",
        "\\begin{equation*}\n",
        "R(\\pi)=\\sum_{t\\leq T}E_{p^{\\pi}}[\\gamma^t r(s_{t},a_{t})] \\> ,\n",
        "\\end{equation*}\n",
        "\n",
        "where: \n",
        "\\begin{equation*}p^{\\pi}(a_{0},a_{1},s_{1},...,a_{T},s_{T})=p(a_{0})\\prod_{t=1}^{T}\\pi(a_{t}|s_{t})p(s_{t+1}|s_{t},a_{t}) \\> .\n",
        "\\end{equation*}\n",
        "\n",
        "We note the $Q$-function:\n",
        "\n",
        "\\begin{equation*}Q^\\pi(s,a)=E_{p^{\\pi}}[\\sum_{t\\leq T}\\gamma^{t}r(s_{t},a_{t})|s_{0}=s,a_{0}=a] \\> .\n",
        "\\end{equation*}\n",
        "\n",
        "Thus, the optimal Q function is:\n",
        "\\begin{equation*}\n",
        "Q^*(s,a)=\\max_{\\pi}Q^\\pi(s,a) \\> .\n",
        "\\end{equation*}\n",
        "\n",
        "In this project, we will apply the deep reinforcement learning techniques to a simple game: an agent will have to learn from scratch a policy that will permit it maximizing a reward."
      ]
    },
    {
      "cell_type": "markdown",
      "metadata": {
        "id": "rCWkfn6pSsOD",
        "colab_type": "text"
      },
      "source": [
        "## The environment, the agent and the game"
      ]
    },
    {
      "cell_type": "markdown",
      "metadata": {
        "id": "xMhspYNwSsOD",
        "colab_type": "text"
      },
      "source": [
        "### The environment"
      ]
    },
    {
      "cell_type": "markdown",
      "metadata": {
        "id": "3QEeij4sSsOE",
        "colab_type": "text"
      },
      "source": [
        "```Environment``` is an abstract class that represents the states, rewards, and actions to obtain the new state."
      ]
    },
    {
      "cell_type": "code",
      "metadata": {
        "id": "rEivkoVwSsOE",
        "colab_type": "code",
        "colab": {}
      },
      "source": [
        "class Environment(object):\n",
        "    def __init__(self):\n",
        "        pass\n",
        "\n",
        "    def act(self, act):\n",
        "        \"\"\"\n",
        "        One can act on the environment and obtain its reaction:\n",
        "        - the new state\n",
        "        - the reward of the new state\n",
        "        - should we continue the game?\n",
        "\n",
        "        :return: state, reward, game_over\n",
        "        \"\"\"\n",
        "        pass\n",
        "\n",
        "\n",
        "    def reset(self):\n",
        "        \"\"\"\n",
        "        Reinitialize the environment to a random state and returns\n",
        "        the original state\n",
        "\n",
        "        :return: state\n",
        "        \"\"\"\n",
        "        pass\n",
        "    \n",
        "    def draw(self):\n",
        "        \"\"\"\n",
        "        Visualize in the console or graphically the current state\n",
        "        \"\"\"\n",
        "        pass"
      ],
      "execution_count": 0,
      "outputs": []
    },
    {
      "cell_type": "markdown",
      "metadata": {
        "id": "01_xttF0SsOG",
        "colab_type": "text"
      },
      "source": [
        "The method ```act``` allows to act on the environment at a given state $s_t$ (stored internally), via action $a_t$. The method will return the new state $s_{t+1}$, the reward $r(s_{t},a_{t})$ and determines if $t\\leq T$ (*game_over*).\n",
        "\n",
        "The method ```reset``` simply reinitializes the environment to a random state $s_0$.\n",
        "\n",
        "The method ```draw``` displays the current state $s_t$ (this is useful to check the behavior of the Agent).\n",
        "\n",
        "We modelize $s_t$ as a tensor, while $a_t$ is an integer."
      ]
    },
    {
      "cell_type": "markdown",
      "metadata": {
        "id": "ZpRSMKgkSsOH",
        "colab_type": "text"
      },
      "source": [
        "### The Agent"
      ]
    },
    {
      "cell_type": "markdown",
      "metadata": {
        "id": "1zoeFmxJSsOI",
        "colab_type": "text"
      },
      "source": [
        "The goal of the ```Agent``` is to interact with the ```Environment``` by proposing actions $a_t$ obtained from a given state $s_t$ to attempt to maximize its __reward__ $r(s_t,a_t)$. We propose the following abstract class:"
      ]
    },
    {
      "cell_type": "code",
      "metadata": {
        "id": "GWhl-pgbSsOJ",
        "colab_type": "code",
        "colab": {}
      },
      "source": [
        "class Agent(object):\n",
        "    def __init__(self, epsilon=0.1, n_action=4):\n",
        "        self.epsilon = epsilon\n",
        "        self.n_action = n_action\n",
        "    \n",
        "    def set_epsilon(self,e):\n",
        "        self.epsilon = e\n",
        "\n",
        "    def act(self,s,train=True):\n",
        "        \"\"\" This function should return the next action to do:\n",
        "        an integer between 0 and 4 (not included) with a random exploration of epsilon\"\"\"\n",
        "        if train:\n",
        "            if np.random.rand() <= self.epsilon:\n",
        "                a = np.random.randint(0, self.n_action, size=1)[0]\n",
        "\n",
        "            else:\n",
        "                a = self.learned_act(s)\n",
        "\n",
        "        else: # in some cases, this can improve the performance.. remove it if poor performances\n",
        "            a = self.learned_act(s)\n",
        "\n",
        "        return a\n",
        "\n",
        "    def learned_act(self,s):\n",
        "        \"\"\" Act via the policy of the agent, from a given state s\n",
        "        it proposes an action a\"\"\"\n",
        "        pass\n",
        "\n",
        "    def reinforce(self, s, n_s, a, r, game_over_):\n",
        "        \"\"\" This function is the core of the learning algorithm. \n",
        "        It takes as an input the current state s_, the next state n_s_\n",
        "        the action a_ used to move from s_ to n_s_ and the reward r_.\n",
        "        \n",
        "        Its goal is to learn a policy.\n",
        "        \"\"\"\n",
        "        pass\n",
        "\n",
        "    def save(self):\n",
        "        \"\"\" This function returns basic stats if applicable: the\n",
        "        loss and/or the model\"\"\"\n",
        "        pass\n",
        "\n",
        "    def load(self):\n",
        "        \"\"\" This function allows to restore a model\"\"\"\n",
        "        pass"
      ],
      "execution_count": 0,
      "outputs": []
    },
    {
      "cell_type": "markdown",
      "metadata": {
        "id": "KVdIT8j9SsOL",
        "colab_type": "text"
      },
      "source": [
        "***\n",
        "__Question 1__:\n",
        "Explain the function act. Why is ```epsilon``` essential?"
      ]
    },
    {
      "cell_type": "markdown",
      "metadata": {
        "id": "sLWk377iSsOM",
        "colab_type": "text"
      },
      "source": [
        "```epsilon``` is the probability under which the agent picks a random action for the next step.\n",
        "If we hit above this threshold the agent then acts via the policy previously learned. It allows our algorithm to learn and not only to reproduce the actions it already tried. It parametrizes the percentage of exploration we allow for our model."
      ]
    },
    {
      "cell_type": "markdown",
      "metadata": {
        "id": "krv_z0qKSsOM",
        "colab_type": "text"
      },
      "source": [
        "***\n",
        "### The Game"
      ]
    },
    {
      "cell_type": "markdown",
      "metadata": {
        "id": "TOzw5Bi_SsON",
        "colab_type": "text"
      },
      "source": [
        "The ```Agent``` and the ```Environment``` work in an interlaced way as in the following (take some time to understand this code as it is the core of the project)\n",
        "\n",
        "```python\n",
        "\n",
        "epoch = 300\n",
        "env = Environment()\n",
        "agent = Agent()\n",
        "\n",
        "\n",
        "# Number of won games\n",
        "score = 0\n",
        "loss = 0\n",
        "\n",
        "\n",
        "for e in range(epoch):\n",
        "    # At each epoch, we restart to a fresh game and get the initial state\n",
        "    state = env.reset()\n",
        "    # This assumes that the games will end\n",
        "    game_over = False\n",
        "\n",
        "    win = 0\n",
        "    lose = 0\n",
        "    \n",
        "    while not game_over:\n",
        "        # The agent performs an action\n",
        "        action = agent.act(state)\n",
        "\n",
        "        # Apply an action to the environment, get the next state, the reward\n",
        "        # and if the games end\n",
        "        prev_state = state\n",
        "        state, reward, game_over = env.act(action)\n",
        "\n",
        "        # Update the counters\n",
        "        if reward > 0:\n",
        "            win = win + reward\n",
        "        if reward < 0:\n",
        "            lose = lose -reward\n",
        "\n",
        "        # Apply the reinforcement strategy\n",
        "        loss = agent.reinforce(prev_state, state,  action, reward, game_over)\n",
        "\n",
        "    # Save as a mp4\n",
        "    if e % 10 == 0:\n",
        "        env.draw(e)\n",
        "\n",
        "    # Update stats\n",
        "    score += win-lose\n",
        "\n",
        "    print(\"Epoch {:03d}/{:03d} | Loss {:.4f} | Win/lose count {}/{} ({})\"\n",
        "          .format(e, epoch, loss, win, lose, win-lose))\n",
        "    agent.save()\n",
        "```"
      ]
    },
    {
      "cell_type": "markdown",
      "metadata": {
        "id": "qfNtv44_SsON",
        "colab_type": "text"
      },
      "source": [
        "# The game, *eat cheese*"
      ]
    },
    {
      "cell_type": "markdown",
      "metadata": {
        "id": "tbnxNW7sSsOO",
        "colab_type": "text"
      },
      "source": [
        "A rat runs on an island and tries to eat as much as possible. The island is subdivided into $N\\times N$ cells, in which there are cheese (+0.5) and poisonous cells (-1). The rat has a visibility of 2 cells (thus it can see $5^2$ cells). The rat is given a time $T$ to accumulate as much food as possible. It can perform 4 actions: going up, down, left, right. \n",
        "\n",
        "The goal is to code an agent to solve this task that will learn by trial and error. We propose the following environment:"
      ]
    },
    {
      "cell_type": "code",
      "metadata": {
        "id": "qJvqWH9LSsOO",
        "colab_type": "code",
        "colab": {}
      },
      "source": [
        "class Environment(object):\n",
        "    def __init__(self, grid_size=10, max_time=500, temperature=0.1):\n",
        "        grid_size = grid_size+4\n",
        "        self.grid_size = grid_size\n",
        "        self.max_time = max_time\n",
        "        self.temperature = temperature\n",
        "\n",
        "        #board on which one plays\n",
        "        self.board = np.zeros((grid_size,grid_size))\n",
        "        self.position = np.zeros((grid_size,grid_size))\n",
        "\n",
        "        # coordinate of the cat\n",
        "        self.x = 0\n",
        "        self.y = 1\n",
        "\n",
        "        # self time\n",
        "        self.t = 0\n",
        "\n",
        "        self.scale=16\n",
        "\n",
        "        self.to_draw = np.zeros((max_time+2, grid_size*self.scale, grid_size*self.scale, 3))\n",
        "\n",
        "\n",
        "    def draw(self,e):\n",
        "        skvideo.io.vwrite(str(e) + '.mp4', self.to_draw)\n",
        "\n",
        "    def get_frame(self,t):\n",
        "        b = np.zeros((self.grid_size,self.grid_size,3))+128\n",
        "        b[self.board>0,0] = 256\n",
        "        b[self.board < 0, 2] = 256\n",
        "        b[self.x,self.y,:]=256\n",
        "        b[-2:,:,:]=0\n",
        "        b[:,-2:,:]=0\n",
        "        b[:2,:,:]=0\n",
        "        b[:,:2,:]=0\n",
        "        \n",
        "        b =  cv2.resize(b, None, fx=self.scale, fy=self.scale, interpolation=cv2.INTER_NEAREST)\n",
        "\n",
        "        self.to_draw[t,:,:,:]=b\n",
        "\n",
        "\n",
        "    def act(self, action):\n",
        "        \"\"\"This function returns the new state, reward and decides if the\n",
        "        game ends.\"\"\"\n",
        "\n",
        "        self.get_frame(int(self.t))\n",
        "\n",
        "        self.position = np.zeros((self.grid_size, self.grid_size))\n",
        "\n",
        "        self.position[0:2,:]= -1\n",
        "        self.position[:,0:2] = -1\n",
        "        self.position[-2:, :] = -1\n",
        "        self.position[-2:, :] = -1\n",
        "\n",
        "        self.position[self.x, self.y] = 1\n",
        "        if action == 0:\n",
        "            if self.x == self.grid_size-3:\n",
        "                self.x = self.x-1\n",
        "            else:\n",
        "                self.x = self.x + 1\n",
        "        elif action == 1:\n",
        "            if self.x == 2:\n",
        "                self.x = self.x+1\n",
        "            else:\n",
        "                self.x = self.x-1\n",
        "        elif action == 2:\n",
        "            if self.y == self.grid_size - 3:\n",
        "                self.y = self.y - 1\n",
        "            else:\n",
        "                self.y = self.y + 1\n",
        "        elif action == 3:\n",
        "            if self.y == 2:\n",
        "                self.y = self.y + 1\n",
        "            else:\n",
        "                self.y = self.y - 1\n",
        "        else:\n",
        "            RuntimeError('Error: action not recognized')\n",
        "\n",
        "        self.t = self.t + 1\n",
        "        reward = self.board[self.x, self.y]\n",
        "        self.board[self.x, self.y] = 0\n",
        "        game_over = self.t > self.max_time\n",
        "        state = np.concatenate((self.board.reshape(self.grid_size, self.grid_size,1),\n",
        "                        self.position.reshape(self.grid_size, self.grid_size,1)),axis=2)\n",
        "        state = state[self.x-2:self.x+3,self.y-2:self.y+3,:]\n",
        "\n",
        "        return state, reward, game_over\n",
        "\n",
        "    def reset(self):\n",
        "        \"\"\"This function resets the game and returns the initial state\"\"\"\n",
        "\n",
        "        self.x = np.random.randint(3, self.grid_size-3, size=1)[0]\n",
        "        self.y = np.random.randint(3, self.grid_size-3, size=1)[0]\n",
        "\n",
        "\n",
        "        bonus = 0.5*np.random.binomial(1,self.temperature,size=self.grid_size**2)\n",
        "        bonus = bonus.reshape(self.grid_size,self.grid_size)\n",
        "\n",
        "        malus = -1.0*np.random.binomial(1,self.temperature,size=self.grid_size**2)\n",
        "        malus = malus.reshape(self.grid_size, self.grid_size)\n",
        "\n",
        "        self.to_draw = np.zeros((self.max_time+2, self.grid_size*self.scale, self.grid_size*self.scale, 3))\n",
        "\n",
        "\n",
        "        malus[bonus>0]=0\n",
        "\n",
        "        self.board = bonus + malus\n",
        "\n",
        "        self.position = np.zeros((self.grid_size, self.grid_size))\n",
        "        self.position[0:2,:]= -1\n",
        "        self.position[:,0:2] = -1\n",
        "        self.position[-2:, :] = -1\n",
        "        self.position[-2:, :] = -1\n",
        "        self.board[self.x,self.y] = 0\n",
        "        self.t = 0\n",
        "\n",
        "        state = np.concatenate((\n",
        "                               self.board.reshape(self.grid_size, self.grid_size,1),\n",
        "                        self.position.reshape(self.grid_size, self.grid_size,1)),axis=2)\n",
        "\n",
        "        state = state[self.x - 2:self.x + 3, self.y - 2:self.y + 3, :]\n",
        "        return state"
      ],
      "execution_count": 0,
      "outputs": []
    },
    {
      "cell_type": "markdown",
      "metadata": {
        "id": "AiXljbqnSsOQ",
        "colab_type": "text"
      },
      "source": [
        "The following elements are important because they correspond to the hyper parameters for this project:"
      ]
    },
    {
      "cell_type": "code",
      "metadata": {
        "id": "uIHa8gcgSsOR",
        "colab_type": "code",
        "colab": {}
      },
      "source": [
        "# parameters\n",
        "size = 13\n",
        "T=200\n",
        "temperature=0.3\n",
        "epochs_train=30 # set small when debugging\n",
        "epochs_test=15 # set small when debugging\n",
        "\n",
        "# display videos\n",
        "def display_videos(name):\n",
        "    video = io.open(name, 'r+b').read()\n",
        "    encoded = base64.b64encode(video)\n",
        "    return '''<video alt=\"test\" controls>\n",
        "                <source src=\"data:video/mp4;base64,{0}\" type=\"video/mp4\" />\n",
        "             </video>'''.format(encoded.decode('ascii'))"
      ],
      "execution_count": 0,
      "outputs": []
    },
    {
      "cell_type": "markdown",
      "metadata": {
        "id": "zV1Or5YfSsOT",
        "colab_type": "text"
      },
      "source": [
        "__Question 2__ Explain the use of the arrays ```position``` and ```board```."
      ]
    },
    {
      "cell_type": "markdown",
      "metadata": {
        "id": "XaqWWFcqSsOU",
        "colab_type": "text"
      },
      "source": [
        "* ```position``` is a grid with the same size as the board with -1 values everywhere except for the location of the rat at instant t\n",
        "\n",
        "* ```board``` is a NxN grid with the remaining aliment values on the board. For each cell it has 0 if it hasn't any aliment in it initially or if the rat already ate it, otherwise it has the value of the reward for eating the aliment on the corresponding cell."
      ]
    },
    {
      "cell_type": "markdown",
      "metadata": {
        "id": "8u0lj33CSsOU",
        "colab_type": "text"
      },
      "source": [
        "## Random Agent"
      ]
    },
    {
      "cell_type": "markdown",
      "metadata": {
        "id": "VSe8-fKuSsOV",
        "colab_type": "text"
      },
      "source": [
        "***\n",
        "__Question 3__ Implement a random Agent (only ```learned_act``` needs to be implemented):"
      ]
    },
    {
      "cell_type": "code",
      "metadata": {
        "id": "_1zjdrPQSsOV",
        "colab_type": "code",
        "colab": {}
      },
      "source": [
        "class RandomAgent(Agent):\n",
        "    def __init__(self):\n",
        "        super(RandomAgent, self).__init__()\n",
        "        pass\n",
        "\n",
        "    def learned_act(self, s):\n",
        "        return np.random.randint(0, 4)"
      ],
      "execution_count": 0,
      "outputs": []
    },
    {
      "cell_type": "markdown",
      "metadata": {
        "id": "R3Qrj3MUSsOX",
        "colab_type": "text"
      },
      "source": [
        "***\n",
        "***\n",
        "__Question 4__ Visualize the game moves. You need to fill in the following function for the evaluation:"
      ]
    },
    {
      "cell_type": "code",
      "metadata": {
        "id": "L5ZSPKafSsOY",
        "colab_type": "code",
        "colab": {}
      },
      "source": [
        "def test(agent,env,epochs,prefix='', with_actual=False):\n",
        "    # Number of won games\n",
        "    score = 0\n",
        "        \n",
        "    for e in range(epochs):\n",
        "        agent.set_epsilon(0)\n",
        "        ##### FILL IN HERE\n",
        "        state = env.reset()\n",
        "        # This assumes that the games will end\n",
        "        game_over = False\n",
        "    \n",
        "        win = 0\n",
        "        lose = 0\n",
        "    \n",
        "        while not game_over:\n",
        "            # The agent performs an action\n",
        "            action = agent.act(state)\n",
        "    \n",
        "            # Apply an action to the environment, get the next state, the reward\n",
        "            # and if the games end\n",
        "            prev_state = state\n",
        "\n",
        "            if with_actual:\n",
        "                state, reward, game_over, actual_reward = env.act(action)\n",
        "                if actual_reward > 0:\n",
        "                    win = win + actual_reward # We only want to see the actual score without the \"coming back\" penalty\n",
        "                if actual_reward < 0:\n",
        "                    lose = lose -actual_reward\n",
        "            else:\n",
        "                state, reward, game_over = env.act(action)\n",
        "                # Update the counters\n",
        "                if reward > 0:\n",
        "                    win = win + reward\n",
        "                if reward < 0:\n",
        "                    lose = lose - reward\n",
        "        \n",
        "        # Save as a mp4\n",
        "        env.draw(prefix+str(e))\n",
        "\n",
        "        # Update stats\n",
        "        score = score + win-lose\n",
        "\n",
        "        print(\"Win/lose count {}/{}. Average score ({})\"\n",
        "              .format(win, lose, score/(1+e)))\n",
        "    print('Final score: '+str(score/epochs))"
      ],
      "execution_count": 0,
      "outputs": []
    },
    {
      "cell_type": "code",
      "metadata": {
        "id": "PpW6RPDySsOc",
        "colab_type": "code",
        "outputId": "4f53287b-bc58-48d5-b0f9-f334c183c8f8",
        "colab": {
          "base_uri": "https://localhost:8080/",
          "height": 443
        }
      },
      "source": [
        "# Initialize the game\n",
        "env = Environment(grid_size=size, max_time=T,temperature=temperature)\n",
        "\n",
        "# Initialize the agent!\n",
        "agent = RandomAgent()\n",
        "\n",
        "test(agent,env,epochs_test,prefix='random')\n",
        "HTML(display_videos('random0.mp4'))"
      ],
      "execution_count": 12,
      "outputs": [
        {
          "output_type": "stream",
          "text": [
            "Win/lose count 10.0/17.0. Average score (-7.0)\n",
            "Win/lose count 6.5/17.0. Average score (-8.75)\n",
            "Win/lose count 13.0/15.0. Average score (-6.5)\n",
            "Win/lose count 4.5/12.0. Average score (-6.75)\n",
            "Win/lose count 11.5/15.0. Average score (-6.1)\n",
            "Win/lose count 10.5/21.0. Average score (-6.833333333333333)\n",
            "Win/lose count 12.0/13.0. Average score (-6.0)\n",
            "Win/lose count 10.5/15.0. Average score (-5.8125)\n",
            "Win/lose count 6.0/14.0. Average score (-6.055555555555555)\n",
            "Win/lose count 8.0/18.0. Average score (-6.45)\n",
            "Win/lose count 14.0/14.0. Average score (-5.863636363636363)\n",
            "Win/lose count 6.0/9.0. Average score (-5.625)\n",
            "Win/lose count 10.0/11.0. Average score (-5.269230769230769)\n",
            "Win/lose count 10.0/17.0. Average score (-5.392857142857143)\n",
            "Win/lose count 10.5/13.0. Average score (-5.2)\n",
            "Final score: -5.2\n"
          ],
          "name": "stdout"
        },
        {
          "output_type": "execute_result",
          "data": {
            "text/html": [
              "<video alt=\"test\" controls>\n",
              "                <source src=\"data:video/mp4;base64,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\" type=\"video/mp4\" />\n",
              "             </video>"
            ],
            "text/plain": [
              "<IPython.core.display.HTML object>"
            ]
          },
          "metadata": {
            "tags": []
          },
          "execution_count": 12
        }
      ]
    },
    {
      "cell_type": "markdown",
      "metadata": {
        "id": "eNuKXlQCSsOf",
        "colab_type": "text"
      },
      "source": [
        "***\n",
        "## DQN"
      ]
    },
    {
      "cell_type": "markdown",
      "metadata": {
        "id": "fd4d15S-SsOg",
        "colab_type": "text"
      },
      "source": [
        "Let us assume here that $T=\\infty$.\n",
        "\n",
        "***\n",
        "__Question 5__ Let $\\pi$ be a policy, show that:\n",
        "\n",
        "\\begin{equation*}\n",
        "Q^{\\pi}(s,a)=E_{(s',a')\\sim p(.|s,a)}[r(s,a)+\\gamma Q^{\\pi}(s',a')]\n",
        "\\end{equation*}\n",
        "\n",
        "Then, show that for the optimal policy $\\pi^*$ (we assume its existence), the following holds: \n",
        "\n",
        "\\begin{equation*}\n",
        "Q^{*}(s,a)=E_{s'\\sim \\pi^*(.|s,a)}[r(s,a)+\\gamma\\max_{a'}Q^{*}(s',a')].\n",
        "\\end{equation*}\n",
        "Finally, deduce that a plausible objective is:\n",
        "\n",
        "\\begin{equation*}\n",
        "\\mathcal{L}(\\theta)=E_{s' \\sim \\pi^*(.|s,a)}\\Vert r+\\gamma\\max\\max_{a'}Q(s',a',\\theta)-Q(s,a,\\theta)\\Vert^{2}.\n",
        "\\end{equation*}\n",
        "\n",
        "\n"
      ]
    },
    {
      "cell_type": "markdown",
      "metadata": {
        "id": "zXlWh5KGSsOg",
        "colab_type": "text"
      },
      "source": [
        "***\n",
        "__Answer__: \n",
        "\n",
        "***Proof 1***\n",
        "\n",
        "Given the following definition of $Q^{\\pi}$:\n",
        "\n",
        "\\begin{equation*}\n",
        "Q^\\pi(s,a)=E_{p^{\\pi}}[\\sum_{t\\geq 0}\\gamma^{t}r(s_{t},a_{t})|s_{0}=s,a_{0}=a] \\> \n",
        "\\end{equation*}\n",
        "\n",
        "We thus have:\n",
        "\n",
        "\\begin{align*}\n",
        "Q^\\pi(s,a)&=E_{p^{\\pi}}\\left[r(s, a) + \\gamma\\sum_{t\\geq 0}\\gamma^{t}r(s_{t+1},a_{t+1})|s_{0}=s,a_{0}=a\\right] \\> \\\\\n",
        "&= E_{(s',a')\\sim p(.|s,a)} \\left[ r(s, a) + \\gamma E_{p^{\\pi}}\\left[\\sum_{t\\geq 0}\\gamma^{t}r(s_{t+1},a_{t+1})|s_{0}=s,a_{0}=a \\right]\\right]\n",
        "\\end{align*}\n",
        "\n",
        "Which gives us the first equation:\n",
        "\n",
        "\\begin{equation*}\n",
        "Q^{\\pi}(s,a)=E_{(s',a')\\sim p(.|s,a)}[r(s,a)+\\gamma Q^{\\pi}(s',a')]\n",
        "\\end{equation*}\n",
        "\n",
        "\n",
        "\n",
        "\n",
        "***Proof 2***\n",
        "\n",
        "We have:\n",
        "\\begin{align*}\n",
        "Q^*(s, a) &= \\max_{\\pi}Q^{\\pi}(s, a)\\\\\n",
        "&= \\max_{\\pi}E_{(s',a')\\sim p(.|s,a)}[r(s,a)+\\gamma Q^{\\pi}(s',a')] \\\\\n",
        "&= r(s,a)+\\gamma \\max_{\\pi}E_{(s',a')\\sim p(.|s,a)} \\left[Q^{\\pi}(s',a') \\right]\n",
        "\\end{align*}\n",
        "\n",
        "It should be pointed out that the $\\max$ over the policies also implies a max over the action as the best policy is the one that maximizes the Q function and it determines the action that maximizes the value function.\n",
        "\n",
        "\\begin{align*}\n",
        "Q^*(s, a) &= r(s,a)+\\gamma E_{(s', a')\\sim \\pi^*(.|s,a)} \\left[Q^*(s',a') \\right]\\\\\n",
        "&= r(s,a)+\\gamma \\max_{a'} E_{s'\\sim \\pi^*(.|s,a)} \\left[Q^*(s',a') \\right]\\\\\n",
        "&= r(s,a)+\\gamma  E_{s'\\sim \\pi^*(.|s,a)} \\left[\\max_{a'} Q^*(s',a') \\right]\\\\\n",
        "\\end{align*}\n",
        "\n",
        "Which gives us the second equation\n",
        "\n",
        "\n",
        "\n",
        "***Proof 3***\n",
        "\n",
        "The second equation gives us a dynamical way to find the Q action value function. Thus to reach convergence we learn the Q function and update it each time and record the loss as the difference between the update and the old value of Q. Thus a $L^2$ norm as described above can ensure us convergence as it tends to be zero when the updated Q value is equal to the old one."
      ]
    },
    {
      "cell_type": "markdown",
      "metadata": {
        "id": "IgQqcjEkSsOh",
        "colab_type": "text"
      },
      "source": [
        "***\n",
        "The DQN-learning algorithm relies on these derivations to train the parameters $\\theta$ of a Deep Neural Network:\n",
        "\n",
        "1. At the state $s_t$, select the action $a_t$ with best reward using $Q_t$ and store the results;\n",
        "\n",
        "2. Obtain the new state $s_{t+1}$ from the environment $p$;\n",
        "\n",
        "3. Store $(s_t,a_t,s_{t+1})$;\n",
        "\n",
        "4. Obtain $Q_{t+1}$ by minimizing  $\\mathcal{L}$ from a recovered batch from the previously stored results.\n",
        "\n",
        "***\n",
        "__Question 6__ Implement the class ```Memory``` that stores moves (in a replay buffer) via ```remember``` and provides a ```random_access``` to these. Specify a maximum memory size to avoid side effects. You can for example use a ```list()``` and set by default ```max_memory=100```."
      ]
    },
    {
      "cell_type": "code",
      "metadata": {
        "id": "SYmxMXzoSsOh",
        "colab_type": "code",
        "colab": {}
      },
      "source": [
        "class Memory(object):\n",
        "    def __init__(self, max_memory=100):\n",
        "        self.max_memory = max_memory\n",
        "        self.memory = list()\n",
        "\n",
        "    def remember(self, m):\n",
        "      if len(self.memory) < self.max_memory:\n",
        "        self.memory.append(m)\n",
        "      else:\n",
        "        self.memory.pop(0) # if we have reached the max memory we pop the oldest element of our list\n",
        "        self.memory.append(m)\n",
        "\n",
        "    def random_access(self):\n",
        "        index = np.random.randint(0, len(self.memory))\n",
        "        return self.memory[index]"
      ],
      "execution_count": 0,
      "outputs": []
    },
    {
      "cell_type": "markdown",
      "metadata": {
        "id": "RYQisooySsOj",
        "colab_type": "text"
      },
      "source": [
        "***\n",
        "The pipeline we will use for training is given below:"
      ]
    },
    {
      "cell_type": "code",
      "metadata": {
        "id": "jt5_d-K3SsOj",
        "colab_type": "code",
        "colab": {}
      },
      "source": [
        "def train(agent,env,epoch,prefix='', verbose=True):\n",
        "    # Number of won games\n",
        "    score = 0\n",
        "    loss = 0\n",
        "\n",
        "    hist = {}\n",
        "    hist['loss'] = []\n",
        "    hist['win-lose'] = []\n",
        "    hist['score'] = []\n",
        "\n",
        "    for e in range(1, epoch + 1):\n",
        "        # At each epoch, we restart to a fresh game and get the initial state\n",
        "        state = env.reset()\n",
        "        # This assumes that the games will terminate\n",
        "        game_over = False\n",
        "\n",
        "        win = 0\n",
        "        lose = 0\n",
        "\n",
        "        while not game_over:\n",
        "            # The agent performs an action\n",
        "            action = agent.act(state)\n",
        "\n",
        "            # Apply an action to the environment, get the next state, the reward\n",
        "            # and if the games end\n",
        "            prev_state = state\n",
        "            state, reward, game_over = env.act(action)\n",
        "\n",
        "            # Update the counters\n",
        "            if reward > 0:\n",
        "                win = win + reward\n",
        "            if reward < 0:\n",
        "                lose = lose -reward\n",
        "\n",
        "            # Apply the reinforcement strategy\n",
        "            loss = agent.reinforce(prev_state, state, action, reward, game_over)\n",
        "\n",
        "        # Save as a mp4\n",
        "        if e % 10 == 0:\n",
        "            env.draw(prefix+str(e))\n",
        "\n",
        "        # Update stats\n",
        "        score += win-lose\n",
        "\n",
        "        if verbose:\n",
        "            print(\"Epoch {:03d}/{:03d} | Loss {:.4f} | Win/lose count {}/{} ({})\"\n",
        "                  .format(e, epoch, loss, win, lose, win-lose))\n",
        "        agent.save(name_weights=prefix+'model.h5',name_model=prefix+'model.json')\n",
        "\n",
        "        hist['loss'].append(loss)\n",
        "        hist['win-lose'].append(win - lose)\n",
        "        hist['score'].append(score)\n",
        "    return hist"
      ],
      "execution_count": 0,
      "outputs": []
    },
    {
      "cell_type": "markdown",
      "metadata": {
        "id": "GJ0h8Mk9SsOl",
        "colab_type": "text"
      },
      "source": [
        "***\n",
        "__Question 7__ Implement the DQN training algorithm using a cascade of fully connected layers. You can use different learning rate, batch size or memory size parameters. In particular, the loss might oscillate while the player will start to win the games. You have to find a good criterium."
      ]
    },
    {
      "cell_type": "code",
      "metadata": {
        "id": "HE43hdyESsOl",
        "colab_type": "code",
        "colab": {}
      },
      "source": [
        "class DQN(Agent):\n",
        "    def __init__(self, grid_size,  epsilon = 0.1, memory_size=100, batch_size = 16,n_state=2):\n",
        "        super(DQN, self).__init__(epsilon = epsilon)\n",
        "\n",
        "        # Discount for Q learning\n",
        "        self.discount = 0.99\n",
        "        \n",
        "        self.grid_size = grid_size\n",
        "        \n",
        "        # number of state\n",
        "        self.n_state = n_state\n",
        "\n",
        "        # Memory\n",
        "        self.memory = Memory(memory_size)\n",
        "        \n",
        "        # Batch size when learning\n",
        "        self.batch_size = batch_size\n",
        "\n",
        "    def learned_act(self, s):\n",
        "       # We take the action that gives the best reward Q as a learned action \n",
        "        q_pred = self.model.predict(np.array([s]))[0]\n",
        "        a = np.argmax(q_pred)\n",
        "        return a\n",
        "\n",
        "    def reinforce(self, s_, n_s_, a_, r_, game_over_):\n",
        "        # Two steps: first memorize the states, second learn from the pool\n",
        "\n",
        "        self.memory.remember([s_, n_s_, a_, r_, game_over_])\n",
        "        if len(self.memory.memory) < self.batch_size:\n",
        "            return 0\n",
        "        \n",
        "        \n",
        "        input_states = np.zeros((self.batch_size, 5,5,self.n_state)) # state with shape (5, 5, self.n_state)\n",
        "        target_q = np.zeros((self.batch_size, 4))\n",
        "\n",
        "        minibatch = np.array([self.memory.random_access() for i in range(self.batch_size)])\n",
        "        input_states = np.array([item[0] for item in minibatch])\n",
        "        next_states = np.array([item[1] for item in minibatch])\n",
        "        pred_q = self.model.predict(input_states)\n",
        "        next_state_pred_q = self.model.predict(next_states)\n",
        "        \n",
        "        for i in range(self.batch_size):\n",
        "            ######## FILL IN\n",
        "            s_, n_s_, a_, r_, game_over_ = minibatch[i]\n",
        "            if game_over_:\n",
        "                ######## FILL IN\n",
        "                target_q[i, a_] = r_ # don't have to update Q the while in train() will end\n",
        "            else:\n",
        "                ######## FILL IN\n",
        "                target_q[i] = pred_q[i]\n",
        "\n",
        "                # We predict the next Q (with next state input) with the current \n",
        "                # policy and update it using Bellman Equation\n",
        "                target_q[i, a_] = r_ + self.discount * np.max(next_state_pred_q[i])\n",
        "\n",
        "            # input_states[i] = s_\n",
        "\n",
        "        ######## FILL IN\n",
        "        # HINT: Clip the target to avoid exploiding gradients.. -- clipping is a bit tighter\n",
        "        target_q = np.clip(target_q, -3, 3)\n",
        "        # input_states = input_states.reshape(self.batch_size, 5, 5, self.n_state)\n",
        "        \n",
        "\n",
        "        l = self.model.train_on_batch(input_states, target_q)\n",
        "\n",
        "\n",
        "        return l\n",
        "\n",
        "    def save(self,name_weights='model.h5',name_model='model.json'):\n",
        "        self.model.save_weights(name_weights, overwrite=True)\n",
        "        with open(name_model, \"w\") as outfile:\n",
        "            json.dump(self.model.to_json(), outfile)\n",
        "            \n",
        "    def load(self,name_weights='model.h5',name_model='model.json'):\n",
        "        with open(name_model, \"r\") as jfile:\n",
        "            model = model_from_json(json.load(jfile))\n",
        "        model.load_weights(name_weights)\n",
        "        model.compile(\"sgd\", \"mse\")\n",
        "        self.model = model\n",
        "\n",
        "            \n",
        "class DQN_FC(DQN):\n",
        "    def __init__(self, *args, lr=0.1,**kwargs):\n",
        "        super(DQN_FC, self).__init__( *args,**kwargs)\n",
        "        \n",
        "        # NN Model\n",
        "        ####### FILL IN\n",
        "\n",
        "        model = Sequential()\n",
        "        model.add(Dense(64, input_shape=(5, 5, self.n_state)))\n",
        "        model.add(Activation('relu'))\n",
        "        model.add(Dense(32))\n",
        "        model.add(Activation('relu'))\n",
        "        model.add(Flatten())\n",
        "        model.add(Dense(4, activation='linear')) # Output layer with n_actions size\n",
        "        # Here we use linear activation such that we don't have a Q-value between 0 and 1\n",
        "        \n",
        "        model.compile(sgd(lr=lr, decay=1e-4, momentum=0.0), \"mse\")\n",
        "        self.model = model\n",
        "\n",
        "\n",
        "        "
      ],
      "execution_count": 0,
      "outputs": []
    },
    {
      "cell_type": "code",
      "metadata": {
        "id": "79-19Cpa0eIi",
        "colab_type": "code",
        "colab": {}
      },
      "source": [
        "import matplotlib.pyplot as plt\n",
        "import matplotlib.gridspec as gridspec\n",
        "\n",
        "def plot_evolutions(hist, batch_size):\n",
        "\n",
        "\n",
        "    ax1 = plt.subplot(1, 3, 1)\n",
        "    ax1.plot(hist['loss'])\n",
        "    plt.title('Loss evolution for batch size of {}'.format(batch_size))\n",
        "\n",
        "    ax2 = plt.subplot(1, 3, 2)\n",
        "    ax2.plot(hist['win-lose'])\n",
        "    plt.title('Win-lose evolution for batch size of {}'.format(batch_size))\n",
        "\n",
        "    ax3 = plt.subplot(1, 3, 3)\n",
        "    ax3.plot(hist['score'])\n",
        "    plt.title('Score evolution for batch size of {}'.format(batch_size))\n",
        "\n",
        "    plt.show()"
      ],
      "execution_count": 0,
      "outputs": []
    },
    {
      "cell_type": "code",
      "metadata": {
        "id": "yViNKi2V4_u7",
        "colab_type": "code",
        "outputId": "afde2cc2-393d-4193-affe-656f47884de2",
        "colab": {
          "base_uri": "https://localhost:8080/",
          "height": 1000
        }
      },
      "source": [
        "env = Environment(grid_size=size, max_time=T, temperature=0.3)\n",
        "agent = DQN_FC(size, lr=1e-2, epsilon=0.1, memory_size=2000, batch_size = 64)\n",
        "hist = train(agent, env, 30, prefix='fc_train')\n",
        "HTML(display_videos('fc_train30.mp4'))"
      ],
      "execution_count": 17,
      "outputs": [
        {
          "output_type": "stream",
          "text": [
            "WARNING:tensorflow:From /usr/local/lib/python3.6/dist-packages/keras/backend/tensorflow_backend.py:66: The name tf.get_default_graph is deprecated. Please use tf.compat.v1.get_default_graph instead.\n",
            "\n",
            "WARNING:tensorflow:From /usr/local/lib/python3.6/dist-packages/keras/backend/tensorflow_backend.py:541: The name tf.placeholder is deprecated. Please use tf.compat.v1.placeholder instead.\n",
            "\n",
            "WARNING:tensorflow:From /usr/local/lib/python3.6/dist-packages/keras/backend/tensorflow_backend.py:4432: The name tf.random_uniform is deprecated. Please use tf.random.uniform instead.\n",
            "\n",
            "WARNING:tensorflow:From /usr/local/lib/python3.6/dist-packages/keras/optimizers.py:793: The name tf.train.Optimizer is deprecated. Please use tf.compat.v1.train.Optimizer instead.\n",
            "\n",
            "WARNING:tensorflow:From /usr/local/lib/python3.6/dist-packages/keras/backend/tensorflow_backend.py:190: The name tf.get_default_session is deprecated. Please use tf.compat.v1.get_default_session instead.\n",
            "\n",
            "WARNING:tensorflow:From /usr/local/lib/python3.6/dist-packages/keras/backend/tensorflow_backend.py:207: The name tf.global_variables is deprecated. Please use tf.compat.v1.global_variables instead.\n",
            "\n",
            "WARNING:tensorflow:From /usr/local/lib/python3.6/dist-packages/keras/backend/tensorflow_backend.py:216: The name tf.is_variable_initialized is deprecated. Please use tf.compat.v1.is_variable_initialized instead.\n",
            "\n",
            "WARNING:tensorflow:From /usr/local/lib/python3.6/dist-packages/keras/backend/tensorflow_backend.py:223: The name tf.variables_initializer is deprecated. Please use tf.compat.v1.variables_initializer instead.\n",
            "\n",
            "WARNING:tensorflow:From /usr/local/lib/python3.6/dist-packages/keras/backend/tensorflow_backend.py:1033: The name tf.assign_add is deprecated. Please use tf.compat.v1.assign_add instead.\n",
            "\n",
            "WARNING:tensorflow:From /usr/local/lib/python3.6/dist-packages/keras/backend/tensorflow_backend.py:1020: The name tf.assign is deprecated. Please use tf.compat.v1.assign instead.\n",
            "\n",
            "Epoch 001/030 | Loss 0.0060 | Win/lose count 0.5/7.0 (-6.5)\n",
            "Epoch 002/030 | Loss 0.0092 | Win/lose count 4.0/4.0 (0.0)\n",
            "Epoch 003/030 | Loss 0.0155 | Win/lose count 2.0/1.0 (1.0)\n",
            "Epoch 004/030 | Loss 0.0130 | Win/lose count 1.0/2.0 (-1.0)\n",
            "Epoch 005/030 | Loss 0.0076 | Win/lose count 2.0/5.0 (-3.0)\n",
            "Epoch 006/030 | Loss 0.0038 | Win/lose count 3.0/3.0 (0.0)\n",
            "Epoch 007/030 | Loss 0.0063 | Win/lose count 7.0/4.0 (3.0)\n",
            "Epoch 008/030 | Loss 0.0027 | Win/lose count 2.0/2.0 (0.0)\n",
            "Epoch 009/030 | Loss 0.0052 | Win/lose count 3.0/7.0 (-4.0)\n",
            "Epoch 010/030 | Loss 0.0154 | Win/lose count 4.0/5.0 (-1.0)\n",
            "Epoch 011/030 | Loss 0.0090 | Win/lose count 2.5/3.0 (-0.5)\n",
            "Epoch 012/030 | Loss 0.0138 | Win/lose count 4.5/6.0 (-1.5)\n",
            "Epoch 013/030 | Loss 0.0095 | Win/lose count 3.5/6.0 (-2.5)\n",
            "Epoch 014/030 | Loss 0.0071 | Win/lose count 5.0/6.0 (-1.0)\n",
            "Epoch 015/030 | Loss 0.0079 | Win/lose count 2.5/5.0 (-2.5)\n",
            "Epoch 016/030 | Loss 0.0041 | Win/lose count 1.0/9.0 (-8.0)\n",
            "Epoch 017/030 | Loss 0.0092 | Win/lose count 1.5/2.0 (-0.5)\n",
            "Epoch 018/030 | Loss 0.0104 | Win/lose count 1.0/2.0 (-1.0)\n",
            "Epoch 019/030 | Loss 0.0015 | Win/lose count 4.0/2.0 (2.0)\n",
            "Epoch 020/030 | Loss 0.0143 | Win/lose count 3.0/4.0 (-1.0)\n",
            "Epoch 021/030 | Loss 0.0035 | Win/lose count 3.0/2.0 (1.0)\n",
            "Epoch 022/030 | Loss 0.0057 | Win/lose count 4.5/4.0 (0.5)\n",
            "Epoch 023/030 | Loss 0.0011 | Win/lose count 4.0/6.0 (-2.0)\n",
            "Epoch 024/030 | Loss 0.0045 | Win/lose count 2.0/3.0 (-1.0)\n",
            "Epoch 025/030 | Loss 0.0111 | Win/lose count 5.5/4.0 (1.5)\n",
            "Epoch 026/030 | Loss 0.0016 | Win/lose count 6.5/5.0 (1.5)\n",
            "Epoch 027/030 | Loss 0.0073 | Win/lose count 1.5/0 (1.5)\n",
            "Epoch 028/030 | Loss 0.0056 | Win/lose count 5.5/3.0 (2.5)\n",
            "Epoch 029/030 | Loss 0.0068 | Win/lose count 0.5/5.0 (-4.5)\n",
            "Epoch 030/030 | Loss 0.0049 | Win/lose count 3.0/1.0 (2.0)\n"
          ],
          "name": "stdout"
        },
        {
          "output_type": "execute_result",
          "data": {
            "text/html": [
              "<video alt=\"test\" controls>\n",
              "                <source src=\"data:video/mp4;base64,AAAAIGZ0eXBpc29tAAACAGlzb21pc28yYXZjMW1wNDEAAAAIZnJlZQAAFjBtZGF0AAACrQYF//+p3EXpvebZSLeWLNgg2SPu73gyNjQgLSBjb3JlIDE1MiByMjg1NCBlOWE1OTAzIC0gSC4yNjQvTVBFRy00IEFWQyBjb2RlYyAtIENvcHlsZWZ0IDIwMDMtMjAxNyAtIGh0dHA6Ly93d3cudmlkZW9sYW4ub3JnL3gyNjQuaHRtbCAtIG9wdGlvbnM6IGNhYmFjPTEgcmVmPTMgZGVibG9jaz0xOjA6MCBhbmFseXNlPTB4MToweDExMSBtZT1oZXggc3VibWU9NyBwc3k9MSBwc3lfcmQ9MS4wMDowLjAwIG1peGVkX3JlZj0xIG1lX3JhbmdlPTE2IGNocm9tYV9tZT0xIHRyZWxsaXM9MSA4eDhkY3Q9MCBjcW09MCBkZWFkem9uZT0yMSwxMSBmYXN0X3Bza2lwPTEgY2hyb21hX3FwX29mZnNldD00IHRocmVhZHM9MyBsb29rYWhlYWRfdGhyZWFkcz0xIHNsaWNlZF90aHJlYWRzPTAgbnI9MCBkZWNpbWF0ZT0xIGludGVybGFjZWQ9MCBibHVyYXlfY29tcGF0PTAgY29uc3RyYWluZWRfaW50cmE9MCBiZnJhbWVzPTMgYl9weXJhbWlkPTIgYl9hZGFwdD0xIGJfYmlhcz0wIGRpcmVjdD0xIHdlaWdodGI9MSBvcGVuX2dvcD0wIHdlaWdodHA9MiBrZXlpbnQ9MjUwIGtleWludF9taW49MjUgc2NlbmVjdXQ9NDAgaW50cmFfcmVmcmVzaD0wIHJjX2xvb2thaGVhZD00MCByYz1jcmYgbWJ0cmVlPTEgY3JmPTIzLjAgcWNvbXA9MC42MCBxcG1pbj0wIHFwbWF4PTY5IHFwc3RlcD00IGlwX3JhdGlvPTEuNDAgYXE9MToxLjAwAIAAAALrZYiEADf//vaH+BTZWBP+Wb/9DX/cj9uPrP1xYyEE31qvIejAGS+1H+b/rFFs6Z6UB/fgCJQAc24ZwpJw4v/ApLdW+BTLYTnGrzD8eNPwpbJHJ82I7SV6WKS9MQ7Rcfete4dw3t7ViRy4FLGtsQQQgz9wmvdMnGp+gfBc06Oz2K+2XhzY3zU5tOobNRVWIPmW06hXDvmNvT81cnQ67Bd2fjsZ0bQwRSn6Fno1I8Rj69tURjIFyDZrQraVj+AmFEvbJwOSpbjmX58MBfgAmueQ4OXr/F9FPpycu9eHi6G4LwMIzjkADmee0Rrc8dLgPRoeNigM+28c4eN9hL5HaajW3WHgE+vJwBQJ9B7CAegTmC3H0Rf2rSXhdIwdscbC6GLxNTnfE9l1LlKAZQftseRwhLBALNfMrdb5c0V0l7PZrV+/sZ2NlB5tjKMDWMEw7s7r67alxoogR8i5iH4FfVZZh+GhUNAYChx2RTvUOjVWUNd2QAFdC/PnQpYoT3kpGwmeX8f67huxj22qv5GB+1qCZx65eJIHnrVkMYZ96looWkABL3b7WXTCAvcdQse35wbEcRaWJFpge8fd4QPJFZnwWcGk2vAjCPVM1UYV4bX/0UilIR6ggMHmZ0r1INEb+FRXMuzKYiPErPppHL4GYoS5onHkSZGs1ga30gN1+Y8mdhdJSA9JAh+uidEFlFCrfuZklDeCQQq/acuwMuLm+SD4X+0wUuwL4o/y4w02voz1fDmuoAIILjpfyKMFBF3c/Yr4ZI4jOkA9N4AdOHePC9wAwNd7yLdJf3LY2QcPQXIeghFw6ADk4kyF9vPORcft6tXzqAV+/j17jF0jAhCWD9XtV0oAFl2OhQcuDKgFyfSrVua4+/pXZEKrXVeMoxBDb3GT6uPgz3UIJI0Ep0hlx4Om8q9K3zaeOobqxAOFjxVGkLnT6B9rcCTYF+HSRAWTfICPrtfPnQsPDUsScS+xYwCdhgRFxLdJhBGAAEnBAAAAFkGaImxDf/6nhAB8vYP88kCqZCRb0DAAAAAQAZ5BeQr/AGcJknl9JBxm4QAAABdBmkM8IZMphDv//qmWACphOgAw6fVDwAAAABJBmmdJ4Q8mUwId//6plgAAlYEAAAAMQZ6FRRE8L/8AALKBAAAAEAGepHRCvwAr1lHfgA+3nEEAAAAQAZ6makK/ACvWUd7PH284gQAAABNBmqtJqEFomUwId//+qZYAAJWAAAAADEGeyUURLC//AACygAAAABABnuh0Qr8AK9ZR34APt5xBAAAAEAGe6mpCvwAr1lHezx9vOIAAAAATQZrvSahBbJlMCHf//qmWAACVgAAAAAxBnw1FFSwv/wAAsoEAAAAQAZ8sdEK/ACvWUd+AD7ecQQAAABABny5qQr8AK9ZR3s8fbziBAAAAE0GbM0moQWyZTAh3//6plgAAlYAAAAAMQZ9RRRUsL/8AALKAAAAAEAGfcHRCvwAr1lHfgA+3nEEAAAAQAZ9yakK/ACvWUd7PH284gAAAABJBm3dJqEFsmUwIb//+p4QAAScAAAAMQZ+VRRUsL/8AALKBAAAAEAGftHRCvwAr1lHfgA+3nEAAAAAQAZ+2akK/ACvWUd7PH284gQAAABJBm7tJqEFsmUwIb//+p4QAAScAAAAMQZ/ZRRUsL/8AALKAAAAAEAGf+HRCvwAr1lHfgA+3nEEAAAAQAZ/6akK/ACvWUd7PH284gAAAABlBm/5JqEFsmUwIZ//+nhAA0/r7+RIj6wn/AAAAD0GeHEUVLCv/ACxNuBKZwQAAAA0Bnj1qQr8ALFysPFTOAAAAGkGaP0moQWyZTAhv//6nhAAi3x0+o40JDmBAAAAAGUGaQEnhClJlMCG//qeEABbPdT9RxoSHScEAAAAdQZpiSeEOiZTBTRMN//6nhAAOj7B/lrpbnBNE/SwAAAAQAZ6BakK/AAvxLadeAKCAgQAAABtBmoNJ4Q8mUwId//6plgADGe2oB/fzukKYUngAAAASQZqnSeEPJlMCHf/+qZYAAJWBAAAADEGexUURPC//AACygQAAABABnuR0Qr8ABPugHQsYnHeRAAAAEAGe5mpCvwAE+ja7vJKTTyEAAAAaQZrqSahBaJlMCHf//qmWAAMVUgzPvE4/vbAAAAAPQZ8IRREsK/8ABPm3ApzAAAAADQGfKWpCvwAE+5WHjOcAAAASQZsuSahBbJlMCG///qeEAAEnAAAADEGfTEUVLC//AACygAAAABABn2t0Qr8AB5rFYvP4HOXBAAAAEAGfbWpCvwAE6so72ePunIEAAAASQZtySahBbJlMCG///qeEAAEnAAAADEGfkEUVLC//AACygAAAABABn690Qr8ABOrKO/AB905AAAAAEAGfsWpCvwAE6so72ePunIEAAAAZQZuzSahBbJlMCG///qeEAAYn2D17M+CMRQAAABtBm9RJ4QpSZTAh3/6plgADBfEIB/fzukKYUsgAAAAZQZv4SeEOiZTAh3/+qZYAAxWOQf77S+8mgQAAABBBnhZFETwv/wADn/w9ddjAAAAADwGeNXRCvwAE+zJ3Bsl6qwAAAA8BnjdqQr8ABPuVgXX+TMEAAAAaQZo8SahBaJlMCHf//qmWAAMZ7S/r+vp1JoAAAAAQQZ5aRREsL/8AA6CdO/zsiQAAAA8Bnnl0Qr8ABPoxi4D87yAAAAAQAZ57akK/AAT5r5zrQwwwwQAAABNBmmBJqEFsmUwId//+qZYAAJWBAAAAEEGenkUVLC//AAOhEtm/SZEAAAAPAZ69dEK/AAT7MncGyXqrAAAADwGev2pCvwAE+bbpRpDzCwAAABlBmqRJqEFsmUwId//+qZYAAxVzo/32l95NAAAAEEGewkUVLC//AAOf/D112MEAAAAPAZ7hdEK/AAT7MncGyXqrAAAADwGe42pCvwAE+5WBdf5MwQAAABJBmuhJqEFsmUwIb//+p4QAAScAAAAMQZ8GRRUsL/8AALKBAAAAEAGfJXRCvwAE6so78AH3TkEAAAAQAZ8nakK/AATqyjvZ4+6cgAAAABJBmyxJqEFsmUwIb//+p4QAAScAAAAMQZ9KRRUsL/8AALKBAAAAEAGfaXRCvwAE6so78AH3TkAAAAAQAZ9rakK/AATqyjvZ4+6cgAAAABpBm21JqEFsmUwIb//+p4QABifYP8JwW6GTwQAAABlBm45J4QpSZTAh3/6plgACAFHOtD1ffNHBAAAAGkGbsUnhDomUwId//qmWAAMpUgzQB9gP+/RBAAAAD0Gfz0URPCv/AAUdtwKaQAAAAA8Bn/BqQr8ABR+UDyYJeoAAAAATQZv1SahBaJlMCHf//qmWAACVgQAAAAxBnhNFESwv/wAAsoAAAAAQAZ4ydEK/AAfGxWL0EtzjwAAAABABnjRqQr8AB8TUOf6NOuWBAAAAG0GaOEmoQWyZTAh3//6plgAE4RYboxDYn/npQAAAAA9BnlZFFSwr/wAHxB/zfaEAAAANAZ53akK/AAfGwKBrlwAAABtBmntJqEFsmUwId//+qZYAB3UyEm4cgB/3icAAAAAPQZ6ZRRUsK/8ADEEtZtXBAAAADwGeumpCvwAMRDS7vwrl6AAAABdBmr9JqEFsmUwId//+qZYAC8e+r7odIQAAAA5Bnt1FFSwv/wAN0IuQIQAAABABnvx0Qr8AEuEAc/sFuWDAAAAAEAGe/mpCvwAMHnJ3s8fcRoAAAAATQZrjSahBbJlMCHf//qmWAACVgQAAAAxBnwFFFSwv/wAAsoAAAAAQAZ8gdEK/AAwecnfgA+4jQQAAABABnyJqQr8ADB5yd7PH3EaAAAAAE0GbJ0moQWyZTAh3//6plgAAlYEAAAAMQZ9FRRUsL/8AALKBAAAAEAGfZHRCvwAMHnJ34APuI0EAAAAQAZ9makK/AAwecnezx9xGgQAAABpBm2pJqEFsmUwId//+qZYAB3/aXhagn9g5oAAAABJBn4hFFSwr/wAMQR6IBTAOgcAAAAAOAZ+pakK/AAxFiVdTqBMAAAAcQZusSahBbJlMFEw7//6plgAHU9pf1yCdk3W6PAAAABABn8tqQr8AC/Etp14AoICAAAAAEkGb0EnhClJlMCHf/qmWAACVgQAAAAxBn+5FNEwv/wAAsoEAAAAQAZ4NdEK/AATqyjvwAfdOQQAAABABng9qQr8ABOrKO9nj7pyAAAAAE0GaFEmoQWiZTAh3//6plgAAlYAAAAAMQZ4yRREsL/8AALKBAAAAEAGeUXRCvwAE6so78AH3TkAAAAAQAZ5TakK/AATqyjvZ4+6cgAAAABNBmlhJqEFsmUwId//+qZYAAJWBAAAADEGedkUVLC//AACygAAAABABnpV0Qr8ABOrKO/AB905BAAAAEAGel2pCvwAE6so72ePunIEAAAATQZqcSahBbJlMCHf//qmWAACVgAAAAAxBnrpFFSwv/wAAsoEAAAAQAZ7ZdEK/AAeaxWLz+BzlwAAAABABnttqQr8AB5jUOf5lvF3BAAAAE0GawEmoQWyZTAh3//6plgAAlYEAAAAMQZ7+RRUsL/8AALKAAAAAEAGfHXRCvwAE6so78AH3TkAAAAAQAZ8fakK/AATqyjvZ4+6cgQAAABNBmwRJqEFsmUwId//+qZYAAJWAAAAADEGfIkUVLC//AACygQAAABABn0F0Qr8ABOrKO/AB905AAAAAEAGfQ2pCvwAE6so72ePunIEAAAATQZtISahBbJlMCHf//qmWAACVgQAAAAxBn2ZFFSwv/wAAsoEAAAAQAZ+FdEK/AATqyjvwAfdOQQAAABABn4dqQr8ABOrKO9nj7pyAAAAAGkGbi0moQWyZTAh3//6plgADGe0vC1BP7EbAAAAAEkGfqUUVLCv/AAT5sAQCmAd0wQAAABABn8pqQr8ABNdohNxn17EYAAAAG0Gbz0moQWyZTAh3//6plgADBfEIB/f2LWcSfwAAABBBn+1FFSwv/wADifxV5IAhAAAAEAGeDHRCvwAE1dqTyvyU7jEAAAAPAZ4OakK/AAT6Nru+77rBAAAAE0GaE0moQWyZTAh3//6plgAAlYAAAAAMQZ4xRRUsL/8AALKAAAAAEAGeUHRCvwAE+6Ac/rQOisEAAAAQAZ5SakK/AAT6Nrushh0VgAAAABNBmldJqEFsmUwId//+qZYAAJWAAAAADEGedUUVLC//AACygQAAABABnpR0Qr8ABPugHP60DorAAAAAEAGelmpCvwAE+ja7rIYdFYEAAAATQZqbSahBbJlMCHf//qmWAACVgQAAAAxBnrlFFSwv/wAAsoAAAAAQAZ7YdEK/AAT7oBz+tA6KwQAAABABntpqQr8ABPo2u6yGHRWAAAAAE0Ga30moQWyZTAh3//6plgAAlYEAAAAMQZ79RRUsL/8AALKBAAAAEAGfHHRCvwAE+6Ac/rQOisAAAAAQAZ8eakK/AAT6Nrushh0VgAAAABNBmwNJqEFsmUwId//+qZYAAJWBAAAADEGfIUUVLC//AACygAAAABABn0B0Qr8ABPugHP60DorBAAAAEAGfQmpCvwAE+ja7rIYdFYAAAAATQZtHSahBbJlMCHf//qmWAACVgQAAAAxBn2VFFSwv/wAAsoEAAAAQAZ+EdEK/AAT7oBz+tA6KwQAAABABn4ZqQr8ABPo2u6yGHRWBAAAAE0Gbi0moQWyZTAh3//6plgAAlYAAAAAMQZ+pRRUsL/8AALKAAAAAEAGfyHRCvwAE+6Ac/rQOisEAAAAQAZ/KakK/AAT6Nrushh0VgAAAABNBm89JqEFsmUwId//+qZYAAJWAAAAADEGf7UUVLC//AACygQAAABABngx0Qr8AAy+cnEdl2jOBAAAAEAGeDmpCvwAE+ja7rIYdFYEAAAATQZoTSahBbJlMCHf//qmWAACVgAAAAAxBnjFFFSwv/wAAsoAAAAAQAZ5QdEK/AAMvnJxHZdozgQAAABABnlJqQr8ABPo2u6yGHRWAAAAAE0GaV0moQWyZTAh3//6plgAAlYAAAAAMQZ51RRUsL/8AALKBAAAAEAGelHRCvwADL5ycR2XaM4AAAAAQAZ6WakK/AAT6Nrushh0VgQAAABNBmptJqEFsmUwId//+qZYAAJWBAAAAFEGeuUUVLC//AAO1u3TOK6e8P0QoAAAADwGe2HRCvwAFHzJ3Bsl6oQAAABABntpqQr8ABR2vnOtDDC5AAAAAEkGa30moQWyZTAhv//6nhAABJwAAAAxBnv1FFSwv/wAAsoEAAAAQAZ8cdEK/AAT7oBz+tA6KwAAAABABnx5qQr8ABPo2u6yGHRWAAAAAEkGbA0moQWyZTAhv//6nhAABJwAAAAxBnyFFFSwv/wAAsoAAAAAQAZ9AdEK/AAMvnJxHZdozgQAAABABn0JqQr8ABPo2u6yGHRWAAAAAEkGbR0moQWyZTAhn//6eEAAEfQAAAB5Bn2VFFSwv/wADgNHnMspijHMsA8HMsg35GbJ5gEEAAAAQAZ+EdEK/AATX1EifFmKiMQAAABABn4ZqQr8ABNZZDD6AkH3pAAAAG0GbiUuoQhBbJEYIKAfyAf2HgFEwr/44QAARcAAAACQBn6hqQr8Cr2PtQcTdqsNJJuWqhgcstbvNKiCaLC4i0jwoX+AAAAw4bW9vdgAAAGxtdmhkAAAAAAAAAAAAAAAAAAAD6AAAH5AAAQAAAQAAAAAAAAAAAAAAAAEAAAAAAAAAAAAAAAAAAAABAAAAAAAAAAAAAAAAAABAAAAAAAAAAAAAAAAAAAAAAAAAAAAAAAAAAAAAAAAAAgAAC2J0cmFrAAAAXHRraGQAAAADAAAAAAAAAAAAAAABAAAAAAAAH5AAAAAAAAAAAAAAAAAAAAAAAAEAAAAAAAAAAAAAAAAAAAABAAAAAAAAAAAAAAAAAABAAAAAARAAAAEQAAAAAAAkZWR0cwAAABxlbHN0AAAAAAAAAAEAAB+QAAAEAAABAAAAAArabWRpYQAAACBtZGhkAAAAAAAAAAAAAAAAAAAyAAABlABVxAAAAAAALWhkbHIAAAAAAAAAAHZpZGUAAAAAAAAAAAAAAABWaWRlb0hhbmRsZXIAAAAKhW1pbmYAAAAUdm1oZAAAAAEAAAAAAAAAAAAAACRkaW5mAAAAHGRyZWYAAAAAAAAAAQAAAAx1cmwgAAAAAQAACkVzdGJsAAAAlXN0c2QAAAAAAAAAAQAAAIVhdmMxAAAAAAAAAAEAAAAAAAAAAAAAAAAAAAAAARABEABIAAAASAAAAAAAAAABAAAAAAAAAAAAAAAAAAAAAAAAAAAAAAAAAAAAAAAAAAAAGP//AAAAL2F2Y0MB9AAN/+EAF2f0AA2RmygiEdCAAAADAIAAABkHihTLAQAFaOvjxEgAAAAYc3R0cwAAAAAAAAABAAAAygAAAgAAAAAUc3RzcwAAAAAAAAABAAAAAQAABhBjdHRzAAAAAAAAAMAAAAABAAAEAAAAAAEAAAYAAAAAAQAAAgAAAAABAAAEAAAAAAEAAAoAAAAAAQAABAAAAAABAAAAAAAAAAEAAAIAAAAAAQAACgAAAAABAAAEAAAAAAEAAAAAAAAAAQAAAgAAAAABAAAKAAAAAAEAAAQAAAAAAQAAAAAAAAABAAACAAAAAAEAAAoAAAAAAQAABAAAAAABAAAAAAAAAAEAAAIAAAAAAQAACgAAAAABAAAEAAAAAAEAAAAAAAAAAQAAAgAAAAABAAAKAAAAAAEAAAQAAAAAAQAAAAAAAAABAAACAAAAAAEAAAgAAAAAAgAAAgAAAAACAAAEAAAAAAEAAAYAAAAAAQAAAgAAAAABAAAEAAAAAAEAAAoAAAAAAQAABAAAAAABAAAAAAAAAAEAAAIAAAAAAQAACAAAAAACAAACAAAAAAEAAAoAAAAAAQAABAAAAAABAAAAAAAAAAEAAAIAAAAAAQAACgAAAAABAAAEAAAAAAEAAAAAAAAAAQAAAgAAAAACAAAEAAAAAAEAAAoAAAAAAQAABAAAAAABAAAAAAAAAAEAAAIAAAAAAQAACgAAAAABAAAEAAAAAAEAAAAAAAAAAQAAAgAAAAABAAAKAAAAAAEAAAQAAAAAAQAAAAAAAAABAAACAAAAAAEAAAoAAAAAAQAABAAAAAABAAAAAAAAAAEAAAIAAAAAAQAACgAAAAABAAAEAAAAAAEAAAAAAAAAAQAAAgAAAAABAAAKAAAAAAEAAAQAAAAAAQAAAAAAAAABAAACAAAAAAIAAAQAAAAAAQAACAAAAAACAAACAAAAAAEAAAoAAAAAAQAABAAAAAABAAAAAAAAAAEAAAIAAAAAAQAACAAAAAACAAACAAAAAAEAAAgAAAAAAgAAAgAAAAABAAAKAAAAAAEAAAQAAAAAAQAAAAAAAAABAAACAAAAAAEAAAoAAAAAAQAABAAAAAABAAAAAAAAAAEAAAIAAAAAAQAACgAAAAABAAAEAAAAAAEAAAAAAAAAAQAAAgAAAAABAAAIAAAAAAIAAAIAAAAAAQAABgAAAAABAAACAAAAAAEAAAoAAAAAAQAABAAAAAABAAAAAAAAAAEAAAIAAAAAAQAACgAAAAABAAAEAAAAAAEAAAAAAAAAAQAAAgAAAAABAAAKAAAAAAEAAAQAAAAAAQAAAAAAAAABAAACAAAAAAEAAAoAAAAAAQAABAAAAAABAAAAAAAAAAEAAAIAAAAAAQAACgAAAAABAAAEAAAAAAEAAAAAAAAAAQAAAgAAAAABAAAKAAAAAAEAAAQAAAAAAQAAAAAAAAABAAACAAAAAAEAAAoAAAAAAQAABAAAAAABAAAAAAAAAAEAAAIAAAAAAQAACAAAAAACAAACAAAAAAEAAAoAAAAAAQAABAAAAAABAAAAAAAAAAEAAAIAAAAAAQAACgAAAAABAAAEAAAAAAEAAAAAAAAAAQAAAgAAAAABAAAKAAAAAAEAAAQAAAAAAQAAAAAAAAABAAACAAAAAAEAAAoAAAAAAQAABAAAAAABAAAAAAAAAAEAAAIAAAAAAQAACgAAAAABAAAEAAAAAAEAAAAAAAAAAQAAAgAAAAABAAAKAAAAAAEAAAQAAAAAAQAAAAAAAAABAAACAAAAAAEAAAoAAAAAAQAABAAAAAABAAAAAAAAAAEAAAIAAAAAAQAACgAAAAABAAAEAAAAAAEAAAAAAAAAAQAAAgAAAAABAAAKAAAAAAEAAAQAAAAAAQAAAAAAAAABAAACAAAAAAEAAAoAAAAAAQAABAAAAAABAAAAAAAAAAEAAAIAAAAAAQAACgAAAAABAAAEAAAAAAEAAAAAAAAAAQAAAgAAAAABAAAKAAAAAAEAAAQAAAAAAQAAAAAAAAABAAACAAAAAAEAAAoAAAAAAQAABAAAAAABAAAAAAAAAAEAAAIAAAAAAQAACgAAAAABAAAEAAAAAAEAAAAAAAAAAQAAAgAAAAABAAAKAAAAAAEAAAQAAAAAAQAAAAAAAAABAAACAAAAAAEAAAYAAAAAAQAAAgAAAAAcc3RzYwAAAAAAAAABAAAAAQAAAMoAAAABAAADPHN0c3oAAAAAAAAAAAAAAMoAAAWgAAAAGgAAABQAAAAbAAAAFgAAABAAAAAUAAAAFAAAABcAAAAQAAAAFAAAABQAAAAXAAAAEAAAABQAAAAUAAAAFwAAABAAAAAUAAAAFAAAABYAAAAQAAAAFAAAABQAAAAWAAAAEAAAABQAAAAUAAAAHQAAABMAAAARAAAAHgAAAB0AAAAhAAAAFAAAAB8AAAAWAAAAEAAAABQAAAAUAAAAHgAAABMAAAARAAAAFgAAABAAAAAUAAAAFAAAABYAAAAQAAAAFAAAABQAAAAdAAAAHwAAAB0AAAAUAAAAEwAAABMAAAAeAAAAFAAAABMAAAAUAAAAFwAAABQAAAATAAAAEwAAAB0AAAAUAAAAEwAAABMAAAAWAAAAEAAAABQAAAAUAAAAFgAAABAAAAAUAAAAFAAAAB4AAAAdAAAAHgAAABMAAAATAAAAFwAAABAAAAAUAAAAFAAAAB8AAAATAAAAEQAAAB8AAAATAAAAEwAAABsAAAASAAAAFAAAABQAAAAXAAAAEAAAABQAAAAUAAAAFwAAABAAAAAUAAAAFAAAAB4AAAAWAAAAEgAAACAAAAAUAAAAFgAAABAAAAAUAAAAFAAAABcAAAAQAAAAFAAAABQAAAAXAAAAEAAAABQAAAAUAAAAFwAAABAAAAAUAAAAFAAAABcAAAAQAAAAFAAAABQAAAAXAAAAEAAAABQAAAAUAAAAFwAAABAAAAAUAAAAFAAAAB4AAAAWAAAAFAAAAB8AAAAUAAAAFAAAABMAAAAXAAAAEAAAABQAAAAUAAAAFwAAABAAAAAUAAAAFAAAABcAAAAQAAAAFAAAABQAAAAXAAAAEAAAABQAAAAUAAAAFwAAABAAAAAUAAAAFAAAABcAAAAQAAAAFAAAABQAAAAXAAAAEAAAABQAAAAUAAAAFwAAABAAAAAUAAAAFAAAABcAAAAQAAAAFAAAABQAAAAXAAAAEAAAABQAAAAUAAAAFwAAABgAAAATAAAAFAAAABYAAAAQAAAAFAAAABQAAAAWAAAAEAAAABQAAAAUAAAAFgAAACIAAAAUAAAAFAAAAB8AAAAoAAAAFHN0Y28AAAAAAAAAAQAAADAAAABidWR0YQAAAFptZXRhAAAAAAAAACFoZGxyAAAAAAAAAABtZGlyYXBwbAAAAAAAAAAAAAAAAC1pbHN0AAAAJal0b28AAAAdZGF0YQAAAAEAAAAATGF2ZjU3LjgzLjEwMA==\" type=\"video/mp4\" />\n",
              "             </video>"
            ],
            "text/plain": [
              "<IPython.core.display.HTML object>"
            ]
          },
          "metadata": {
            "tags": []
          },
          "execution_count": 17
        }
      ]
    },
    {
      "cell_type": "code",
      "metadata": {
        "id": "1HjNH9-u6d76",
        "colab_type": "code",
        "outputId": "0feec9a4-85cc-48e1-c175-96eec4d9407a",
        "colab": {
          "base_uri": "https://localhost:8080/",
          "height": 284
        }
      },
      "source": [
        "plt.plot(hist['loss'])"
      ],
      "execution_count": 18,
      "outputs": [
        {
          "output_type": "execute_result",
          "data": {
            "text/plain": [
              "[<matplotlib.lines.Line2D at 0x7fe2d6143390>]"
            ]
          },
          "metadata": {
            "tags": []
          },
          "execution_count": 18
        },
        {
          "output_type": "display_data",
          "data": {
            "image/png": "[encoded data removed]",
            "text/plain": [
              "<Figure size 432x288 with 1 Axes>"
            ]
          },
          "metadata": {
            "tags": []
          }
        }
      ]
    },
    {
      "cell_type": "markdown",
      "metadata": {
        "id": "NpcO4ugcSsOt",
        "colab_type": "text"
      },
      "source": [
        "***\n",
        "***\n",
        "__Question 8__ Implement the DQN training algorithm using a CNN (for example, 2 convolutional layers and one final fully connected layer)."
      ]
    },
    {
      "cell_type": "code",
      "metadata": {
        "id": "7htDYuAMSsOu",
        "colab_type": "code",
        "colab": {}
      },
      "source": [
        "class DQN_CNN(DQN):\n",
        "    def __init__(self, *args,lr=0.1,**kwargs):\n",
        "        super(DQN_CNN, self).__init__(*args,**kwargs)\n",
        "        \n",
        "        ###### FILL IN\n",
        "        model = Sequential()\n",
        "        model.add(Conv2D(32, 3, input_shape=(5, 5, self.n_state), padding='same'))\n",
        "        # model.add(BatchNormalization())\n",
        "        model.add(Activation('relu'))\n",
        "        model.add(MaxPooling2D())\n",
        "        # model.add(Conv2D(32, 3, strides=2, padding='same'))\n",
        "        model.add(Conv2D(64, 3, padding='same'))\n",
        "        # model.add(BatchNormalization())\n",
        "        model.add(Activation('relu'))\n",
        "        model.add(MaxPooling2D())\n",
        "        # model.add(Conv2D(64, 3, strides=2, padding='same'))\n",
        "        \n",
        "        model.add(Flatten())\n",
        "        model.add(Dense(4, activation='linear'))\n",
        "        \n",
        "        model.compile(sgd(lr=lr, decay=1e-4, momentum=0.0), \"mse\")\n",
        "        self.model = model"
      ],
      "execution_count": 0,
      "outputs": []
    },
    {
      "cell_type": "code",
      "metadata": {
        "id": "W4oaq2clSsOx",
        "colab_type": "code",
        "outputId": "2e1000e2-39b9-4dfb-c727-154ce874308b",
        "colab": {
          "base_uri": "https://localhost:8080/",
          "height": 1000
        }
      },
      "source": [
        "n_epochs = 100\n",
        "env = Environment(grid_size=size, max_time=T, temperature=0.3)\n",
        "agent = DQN_CNN(size, lr=.01, epsilon=0.1, memory_size=2000, batch_size = 64)\n",
        "train(agent,env, n_epochs, prefix='cnn_train')\n",
        "HTML(display_videos('cnn_train{}.mp4'.format(str(n_epochs))))"
      ],
      "execution_count": 20,
      "outputs": [
        {
          "output_type": "stream",
          "text": [
            "WARNING:tensorflow:From /usr/local/lib/python3.6/dist-packages/keras/backend/tensorflow_backend.py:4267: The name tf.nn.max_pool is deprecated. Please use tf.nn.max_pool2d instead.\n",
            "\n",
            "Epoch 001/100 | Loss 0.0033 | Win/lose count 2.0/1.0 (1.0)\n",
            "Epoch 002/100 | Loss 0.0043 | Win/lose count 1.5/3.0 (-1.5)\n",
            "Epoch 003/100 | Loss 0.0059 | Win/lose count 2.5/2.0 (0.5)\n",
            "Epoch 004/100 | Loss 0.0036 | Win/lose count 5.0/2.0 (3.0)\n",
            "Epoch 005/100 | Loss 0.0055 | Win/lose count 2.0/2.0 (0.0)\n",
            "Epoch 006/100 | Loss 0.0062 | Win/lose count 0.5/4.0 (-3.5)\n",
            "Epoch 007/100 | Loss 0.0013 | Win/lose count 3.5/5.0 (-1.5)\n",
            "Epoch 008/100 | Loss 0.0083 | Win/lose count 1.5/1.0 (0.5)\n",
            "Epoch 009/100 | Loss 0.0079 | Win/lose count 2.0/7.0 (-5.0)\n",
            "Epoch 010/100 | Loss 0.0048 | Win/lose count 3.5/3.0 (0.5)\n",
            "Epoch 011/100 | Loss 0.0023 | Win/lose count 1.0/6.0 (-5.0)\n",
            "Epoch 012/100 | Loss 0.0060 | Win/lose count 5.5/5.0 (0.5)\n",
            "Epoch 013/100 | Loss 0.0054 | Win/lose count 4.0/5.0 (-1.0)\n",
            "Epoch 014/100 | Loss 0.0014 | Win/lose count 2.0/6.0 (-4.0)\n",
            "Epoch 015/100 | Loss 0.0045 | Win/lose count 2.5/1.0 (1.5)\n",
            "Epoch 016/100 | Loss 0.0051 | Win/lose count 3.0/8.0 (-5.0)\n",
            "Epoch 017/100 | Loss 0.0094 | Win/lose count 7.5/5.0 (2.5)\n",
            "Epoch 018/100 | Loss 0.0096 | Win/lose count 8.0/8.0 (0.0)\n",
            "Epoch 019/100 | Loss 0.0015 | Win/lose count 4.5/9.0 (-4.5)\n",
            "Epoch 020/100 | Loss 0.0044 | Win/lose count 3.0/4.0 (-1.0)\n",
            "Epoch 021/100 | Loss 0.0196 | Win/lose count 3.5/2.0 (1.5)\n",
            "Epoch 022/100 | Loss 0.0126 | Win/lose count 3.0/6.0 (-3.0)\n",
            "Epoch 023/100 | Loss 0.0103 | Win/lose count 4.5/6.0 (-1.5)\n",
            "Epoch 024/100 | Loss 0.0102 | Win/lose count 2.5/5.0 (-2.5)\n",
            "Epoch 025/100 | Loss 0.0117 | Win/lose count 7.0/7.0 (0.0)\n",
            "Epoch 026/100 | Loss 0.0084 | Win/lose count 5.5/7.0 (-1.5)\n",
            "Epoch 027/100 | Loss 0.0082 | Win/lose count 4.0/7.0 (-3.0)\n",
            "Epoch 028/100 | Loss 0.0218 | Win/lose count 7.0/7.0 (0.0)\n",
            "Epoch 029/100 | Loss 0.0113 | Win/lose count 3.0/3.0 (0.0)\n",
            "Epoch 030/100 | Loss 0.0107 | Win/lose count 2.0/2.0 (0.0)\n",
            "Epoch 031/100 | Loss 0.0142 | Win/lose count 4.0/5.0 (-1.0)\n",
            "Epoch 032/100 | Loss 0.0033 | Win/lose count 4.0/2.0 (2.0)\n",
            "Epoch 033/100 | Loss 0.0077 | Win/lose count 3.5/4.0 (-0.5)\n",
            "Epoch 034/100 | Loss 0.0081 | Win/lose count 4.0/4.0 (0.0)\n",
            "Epoch 035/100 | Loss 0.0047 | Win/lose count 2.0/1.0 (1.0)\n",
            "Epoch 036/100 | Loss 0.0139 | Win/lose count 2.0/2.0 (0.0)\n",
            "Epoch 037/100 | Loss 0.0050 | Win/lose count 0.5/3.0 (-2.5)\n",
            "Epoch 038/100 | Loss 0.0029 | Win/lose count 4.0/1.0 (3.0)\n",
            "Epoch 039/100 | Loss 0.0052 | Win/lose count 6.0/1.0 (5.0)\n",
            "Epoch 040/100 | Loss 0.0005 | Win/lose count 5.0/1.0 (4.0)\n",
            "Epoch 041/100 | Loss 0.0013 | Win/lose count 5.0/1.0 (4.0)\n",
            "Epoch 042/100 | Loss 0.0006 | Win/lose count 5.0/5.0 (0.0)\n",
            "Epoch 043/100 | Loss 0.0005 | Win/lose count 4.0/1.0 (3.0)\n",
            "Epoch 044/100 | Loss 0.0052 | Win/lose count 5.5/6.0 (-0.5)\n",
            "Epoch 045/100 | Loss 0.0021 | Win/lose count 3.0/5.0 (-2.0)\n",
            "Epoch 046/100 | Loss 0.0063 | Win/lose count 5.5/5.0 (0.5)\n",
            "Epoch 047/100 | Loss 0.0093 | Win/lose count 5.5/3.0 (2.5)\n",
            "Epoch 048/100 | Loss 0.0090 | Win/lose count 2.5/2.0 (0.5)\n",
            "Epoch 049/100 | Loss 0.0070 | Win/lose count 6.0/2.0 (4.0)\n",
            "Epoch 050/100 | Loss 0.0135 | Win/lose count 2.5/4.0 (-1.5)\n",
            "Epoch 051/100 | Loss 0.0013 | Win/lose count 5.5/4.0 (1.5)\n",
            "Epoch 052/100 | Loss 0.0106 | Win/lose count 4.0/5.0 (-1.0)\n",
            "Epoch 053/100 | Loss 0.0041 | Win/lose count 6.5/0 (6.5)\n",
            "Epoch 054/100 | Loss 0.0014 | Win/lose count 4.0/1.0 (3.0)\n",
            "Epoch 055/100 | Loss 0.0039 | Win/lose count 4.5/2.0 (2.5)\n",
            "Epoch 056/100 | Loss 0.0044 | Win/lose count 1.0/1.0 (0.0)\n",
            "Epoch 057/100 | Loss 0.0026 | Win/lose count 5.5/5.0 (0.5)\n",
            "Epoch 058/100 | Loss 0.0038 | Win/lose count 5.0/2.0 (3.0)\n",
            "Epoch 059/100 | Loss 0.0029 | Win/lose count 1.0/4.0 (-3.0)\n",
            "Epoch 060/100 | Loss 0.0038 | Win/lose count 5.5/5.0 (0.5)\n",
            "Epoch 061/100 | Loss 0.0098 | Win/lose count 7.5/7.0 (0.5)\n",
            "Epoch 062/100 | Loss 0.0070 | Win/lose count 6.0/5.0 (1.0)\n",
            "Epoch 063/100 | Loss 0.0104 | Win/lose count 7.5/2.0 (5.5)\n",
            "Epoch 064/100 | Loss 0.0124 | Win/lose count 4.5/2.0 (2.5)\n",
            "Epoch 065/100 | Loss 0.0067 | Win/lose count 3.0/2.0 (1.0)\n",
            "Epoch 066/100 | Loss 0.0023 | Win/lose count 2.5/4.0 (-1.5)\n",
            "Epoch 067/100 | Loss 0.0091 | Win/lose count 2.5/3.0 (-0.5)\n",
            "Epoch 068/100 | Loss 0.0089 | Win/lose count 2.5/2.0 (0.5)\n",
            "Epoch 069/100 | Loss 0.0091 | Win/lose count 4.5/1.0 (3.5)\n",
            "Epoch 070/100 | Loss 0.0083 | Win/lose count 4.5/4.0 (0.5)\n",
            "Epoch 071/100 | Loss 0.0045 | Win/lose count 5.0/6.0 (-1.0)\n",
            "Epoch 072/100 | Loss 0.0039 | Win/lose count 1.5/4.0 (-2.5)\n",
            "Epoch 073/100 | Loss 0.0061 | Win/lose count 5.5/2.0 (3.5)\n",
            "Epoch 074/100 | Loss 0.0027 | Win/lose count 3.5/2.0 (1.5)\n",
            "Epoch 075/100 | Loss 0.0128 | Win/lose count 6.5/4.0 (2.5)\n",
            "Epoch 076/100 | Loss 0.0055 | Win/lose count 6.0/3.0 (3.0)\n",
            "Epoch 077/100 | Loss 0.0037 | Win/lose count 2.0/4.0 (-2.0)\n",
            "Epoch 078/100 | Loss 0.0073 | Win/lose count 0.5/4.0 (-3.5)\n",
            "Epoch 079/100 | Loss 0.0064 | Win/lose count 5.0/10.0 (-5.0)\n",
            "Epoch 080/100 | Loss 0.0015 | Win/lose count 2.0/4.0 (-2.0)\n",
            "Epoch 081/100 | Loss 0.0109 | Win/lose count 1.0/2.0 (-1.0)\n",
            "Epoch 082/100 | Loss 0.0048 | Win/lose count 3.5/1.0 (2.5)\n",
            "Epoch 083/100 | Loss 0.0075 | Win/lose count 5.0/5.0 (0.0)\n",
            "Epoch 084/100 | Loss 0.0069 | Win/lose count 3.5/2.0 (1.5)\n",
            "Epoch 085/100 | Loss 0.0055 | Win/lose count 1.5/5.0 (-3.5)\n",
            "Epoch 086/100 | Loss 0.0063 | Win/lose count 6.5/7.0 (-0.5)\n",
            "Epoch 087/100 | Loss 0.0036 | Win/lose count 6.0/4.0 (2.0)\n",
            "Epoch 088/100 | Loss 0.0046 | Win/lose count 3.0/4.0 (-1.0)\n",
            "Epoch 089/100 | Loss 0.0059 | Win/lose count 3.0/9.0 (-6.0)\n",
            "Epoch 090/100 | Loss 0.0087 | Win/lose count 6.5/2.0 (4.5)\n",
            "Epoch 091/100 | Loss 0.0037 | Win/lose count 7.0/3.0 (4.0)\n",
            "Epoch 092/100 | Loss 0.0126 | Win/lose count 6.5/6.0 (0.5)\n",
            "Epoch 093/100 | Loss 0.0036 | Win/lose count 4.5/6.0 (-1.5)\n",
            "Epoch 094/100 | Loss 0.0105 | Win/lose count 4.5/1.0 (3.5)\n",
            "Epoch 095/100 | Loss 0.0229 | Win/lose count 1.5/1.0 (0.5)\n",
            "Epoch 096/100 | Loss 0.0152 | Win/lose count 6.0/4.0 (2.0)\n",
            "Epoch 097/100 | Loss 0.0052 | Win/lose count 4.5/2.0 (2.5)\n",
            "Epoch 098/100 | Loss 0.0038 | Win/lose count 2.0/2.0 (0.0)\n",
            "Epoch 099/100 | Loss 0.0056 | Win/lose count 2.0/1.0 (1.0)\n",
            "Epoch 100/100 | Loss 0.0099 | Win/lose count 3.5/6.0 (-2.5)\n"
          ],
          "name": "stdout"
        },
        {
          "output_type": "execute_result",
          "data": {
            "text/html": [
              "<video alt=\"test\" controls>\n",
              "                <source src=\"data:video/mp4;base64,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\" type=\"video/mp4\" />\n",
              "             </video>"
            ],
            "text/plain": [
              "<IPython.core.display.HTML object>"
            ]
          },
          "metadata": {
            "tags": []
          },
          "execution_count": 20
        }
      ]
    },
    {
      "cell_type": "markdown",
      "metadata": {
        "id": "N1Wy2NdUSsOz",
        "colab_type": "text"
      },
      "source": [
        "***\n",
        "***\n",
        "__Question 9__ Test both algorithms and compare their performances. Which issue(s) do you observe? Observe also different behaviors by changing the temperature."
      ]
    },
    {
      "cell_type": "code",
      "metadata": {
        "id": "SvJTKOMo8zOT",
        "colab_type": "code",
        "outputId": "c55cd225-7aed-4626-e9fe-1173a35c3da6",
        "colab": {
          "base_uri": "https://localhost:8080/",
          "height": 34
        }
      },
      "source": [
        "epochs_test"
      ],
      "execution_count": 21,
      "outputs": [
        {
          "output_type": "execute_result",
          "data": {
            "text/plain": [
              "15"
            ]
          },
          "metadata": {
            "tags": []
          },
          "execution_count": 21
        }
      ]
    },
    {
      "cell_type": "code",
      "metadata": {
        "id": "d77UBhOUSsO0",
        "colab_type": "code",
        "outputId": "44154f16-e832-4a34-93ff-4e5c00464383",
        "colab": {
          "base_uri": "https://localhost:8080/",
          "height": 595
        }
      },
      "source": [
        "env = Environment(grid_size=size, max_time=T,temperature=0.8)\n",
        "agent_cnn = DQN_CNN(size, lr=.1, epsilon = 0.1, memory_size=2000, batch_size = 32)\n",
        "agent_cnn.load(name_weights='cnn_trainmodel.h5',name_model='cnn_trainmodel.json')\n",
        "\n",
        "agent_fc = DQN_FC(size, lr=.1, epsilon = 0.1, memory_size=2000, batch_size = 32)\n",
        "agent_cnn.load(name_weights='fc_trainmodel.h5',name_model='fc_trainmodel.json')\n",
        "print('Test of the CNN')\n",
        "test(agent_cnn,env,epochs_test,prefix='cnn_test')\n",
        "print('Test of the FC')\n",
        "test(agent_fc,env,epochs_test,prefix='fc_test')"
      ],
      "execution_count": 22,
      "outputs": [
        {
          "output_type": "stream",
          "text": [
            "Test of the CNN\n",
            "Win/lose count 1.0/2.0. Average score (-1.0)\n",
            "Win/lose count 5.0/0. Average score (2.0)\n",
            "Win/lose count 2.0/2.0. Average score (1.3333333333333333)\n",
            "Win/lose count 3.0/2.0. Average score (1.25)\n",
            "Win/lose count 1.0/0. Average score (1.2)\n",
            "Win/lose count 1.0/0. Average score (1.1666666666666667)\n",
            "Win/lose count 1.0/0. Average score (1.1428571428571428)\n",
            "Win/lose count 1.5/0. Average score (1.1875)\n",
            "Win/lose count 3.5/0. Average score (1.4444444444444444)\n",
            "Win/lose count 3.0/1.0. Average score (1.5)\n",
            "Win/lose count 4.5/3.0. Average score (1.5)\n",
            "Win/lose count 2.0/0. Average score (1.5416666666666667)\n",
            "Win/lose count 4.5/0. Average score (1.7692307692307692)\n",
            "Win/lose count 3.0/2.0. Average score (1.7142857142857142)\n",
            "Win/lose count 5.0/0. Average score (1.9333333333333333)\n",
            "Final score: 1.9333333333333333\n",
            "Test of the FC\n",
            "Win/lose count 2.0/0. Average score (2.0)\n",
            "Win/lose count 0.5/0. Average score (1.25)\n",
            "Win/lose count 1.5/1.0. Average score (1.0)\n",
            "Win/lose count 0.5/1.0. Average score (0.625)\n",
            "Win/lose count 3.0/3.0. Average score (0.5)\n",
            "Win/lose count 3.5/3.0. Average score (0.5)\n",
            "Win/lose count 2.5/0. Average score (0.7857142857142857)\n",
            "Win/lose count 0.5/1.0. Average score (0.625)\n",
            "Win/lose count 2.0/0. Average score (0.7777777777777778)\n",
            "Win/lose count 2.5/1.0. Average score (0.85)\n",
            "Win/lose count 1.0/0. Average score (0.8636363636363636)\n",
            "Win/lose count 2.5/1.0. Average score (0.9166666666666666)\n",
            "Win/lose count 0.5/0. Average score (0.8846153846153846)\n",
            "Win/lose count 0.5/0. Average score (0.8571428571428571)\n",
            "Win/lose count 2.5/1.0. Average score (0.9)\n",
            "Final score: 0.9\n"
          ],
          "name": "stdout"
        }
      ]
    },
    {
      "cell_type": "code",
      "metadata": {
        "id": "PZ5vbAceSsO2",
        "colab_type": "code",
        "outputId": "807e48d0-47e2-4b72-f39e-634eb25596eb",
        "colab": {
          "base_uri": "https://localhost:8080/",
          "height": 293
        }
      },
      "source": [
        "HTML(display_videos('cnn_test14.mp4'))"
      ],
      "execution_count": 23,
      "outputs": [
        {
          "output_type": "execute_result",
          "data": {
            "text/html": [
              "<video alt=\"test\" controls>\n",
              "                <source src=\"data:video/mp4;base64,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\" type=\"video/mp4\" />\n",
              "             </video>"
            ],
            "text/plain": [
              "<IPython.core.display.HTML object>"
            ]
          },
          "metadata": {
            "tags": []
          },
          "execution_count": 23
        }
      ]
    },
    {
      "cell_type": "code",
      "metadata": {
        "id": "mzOEAAB9SsO4",
        "colab_type": "code",
        "outputId": "41cb78a8-2d33-4a0f-abad-c5ad625aa73c",
        "colab": {
          "base_uri": "https://localhost:8080/",
          "height": 293
        }
      },
      "source": [
        "HTML(display_videos('fc_test14.mp4'))"
      ],
      "execution_count": 24,
      "outputs": [
        {
          "output_type": "execute_result",
          "data": {
            "text/html": [
              "<video alt=\"test\" controls>\n",
              "                <source src=\"data:video/mp4;base64,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\" type=\"video/mp4\" />\n",
              "             </video>"
            ],
            "text/plain": [
              "<IPython.core.display.HTML object>"
            ]
          },
          "metadata": {
            "tags": []
          },
          "execution_count": 24
        }
      ]
    },
    {
      "cell_type": "markdown",
      "metadata": {
        "id": "xQFKrUCPM75a",
        "colab_type": "text"
      },
      "source": [
        "Increasing the temperature leads to less poisons on the board and more healthy aliments for the rat.\n",
        "\n",
        "\n",
        "Even if the CNN model has a better final test score than the Fully Connected one we can observe that our rat tends to come back to cells it already visited as the rewards are 0 there instead of exploring and possibly take a negative reward. To avoid this issue we will implement a \"come-back penalty\" when the rat returns on a cell it already visited.\n",
        "This penalty is going to be :\n",
        "* -0.1 if it is the first time the rat re-visit this cell\n",
        "* malus * 1.2 until the malus is just below the poison malus if the rat re-visits a cell it already re-visited at least once.\n",
        "\n",
        "To force exploring we are also going to need an epsilon-greedy strategy so that this epsilon is high at first and it then decreases as our model starts learning."
      ]
    },
    {
      "cell_type": "markdown",
      "metadata": {
        "id": "VZiB5rG4SsO7",
        "colab_type": "text"
      },
      "source": [
        "***\n",
        "\n",
        "The algorithm tends to not explore the map which can be an issue. We propose two ideas in order to encourage exploration:\n",
        "1. Incorporating a decreasing $\\epsilon$-greedy exploration. You can use the method ```set_epsilon```\n",
        "2. Append via the environment a new state that describes if a cell has been visited or not\n",
        "\n",
        "***\n",
        "__Question 10__ Design a new ```train_explore``` function and environment class ```EnvironmentExploring``` to tackle the issue of exploration.\n",
        "\n"
      ]
    },
    {
      "cell_type": "code",
      "metadata": {
        "id": "-8nyaSY6SsO7",
        "colab_type": "code",
        "colab": {}
      },
      "source": [
        "import math\n",
        "def train_explore(agent,env,epoch,prefix='', verbose=True, dr=0.999):\n",
        "        # Number of won games\n",
        "    score = 0\n",
        "    loss = 0\n",
        "\n",
        "    hist = {}\n",
        "    hist['loss'] = []\n",
        "    hist['win-lose'] = []\n",
        "    hist['score'] = []\n",
        "\n",
        "    \n",
        "    epsilon_start = agent.epsilon\n",
        "    epsilon_end = 0.05 \n",
        "    epsilon_drop = 200 # amount of decrease of eps each increment of t\n",
        "    agent.set_epsilon(epsilon_start)\n",
        "    print('Training model starting with epsilon=', agent.epsilon)\n",
        "    steps_done = 0\n",
        "    for e in range(epoch):\n",
        "        # At each epoch, we restart to a fresh game and get the initial state\n",
        "        agent.set_epsilon((-epsilon_start/epoch)*e + epsilon_start)\n",
        "        state = env.reset()\n",
        "        # This assumes that the games will terminate\n",
        "        game_over = False\n",
        "\n",
        "        win = 0\n",
        "        lose = 0\n",
        "\n",
        "        while not game_over:\n",
        "            # The agent performs an action\n",
        "            agent.set_epsilon(agent.epsilon*dr) # we decrease epsilon each turn we play\n",
        "            action = agent.act(state)\n",
        "\n",
        "            # Apply an action to the environment, get the next state, the reward\n",
        "            # and if the games end\n",
        "            prev_state = state\n",
        "            state, reward, game_over, actual_reward = env.act(action, train=True)\n",
        "\n",
        "            # Update the counters\n",
        "            if actual_reward > 0:\n",
        "                win = win + actual_reward # We only want to see the actual score without the \"coming back\" penalty\n",
        "            if actual_reward < 0:\n",
        "                lose = lose -actual_reward\n",
        "\n",
        "            # Apply the reinforcement strategy\n",
        "            loss = agent.reinforce(prev_state, state, action, reward, game_over)\n",
        "            steps_done += 1\n",
        "        # Save as a mp4\n",
        "        if e % 10 == 0:\n",
        "            env.draw(prefix+str(e))\n",
        "\n",
        "        # Update stats\n",
        "        score += win-lose\n",
        "\n",
        "        if verbose:\n",
        "            print(\"Epoch {:03d}/{:03d} | Loss {:.4f} | Actual Win/lose count {}/{} ({})\"\n",
        "                  .format(e, epoch, loss, win, lose, win-lose))\n",
        "        agent.save(name_weights=prefix+'model.h5',name_model=prefix+'model.json')\n",
        "\n",
        "        hist['loss'].append(loss)\n",
        "        hist['win-lose'].append(win - lose)\n",
        "        hist['score'].append(score)\n",
        "\n",
        "    print(agent.epsilon)\n",
        "    return hist\n",
        "        \n",
        "class EnvironmentExploring(object):\n",
        "    def __init__(self, grid_size=10, max_time=500, temperature=0.1):\n",
        "        grid_size = grid_size+4\n",
        "        self.grid_size = grid_size\n",
        "        self.max_time = max_time\n",
        "        self.temperature = temperature\n",
        "\n",
        "        #board on which one plays\n",
        "        self.board = np.zeros((grid_size,grid_size))\n",
        "        self.position = np.zeros((grid_size,grid_size))\n",
        "        self.malus_position = np.zeros((grid_size, grid_size))\n",
        "\n",
        "        # coordinate of the cat\n",
        "        self.x = 0\n",
        "        self.y = 1\n",
        "\n",
        "        # self time\n",
        "        self.t = 0\n",
        "\n",
        "        self.scale=16\n",
        "\n",
        "        self.to_draw = np.zeros((max_time+2, grid_size*self.scale, grid_size*self.scale, 3))\n",
        "\n",
        "\n",
        "    def draw(self,e):\n",
        "        skvideo.io.vwrite(str(e) + '.mp4', self.to_draw)\n",
        "\n",
        "    def get_frame(self,t):\n",
        "        b = np.zeros((self.grid_size,self.grid_size,3))+128\n",
        "        b[self.board>0,0] = 256\n",
        "        b[self.board < 0, 2] = 256\n",
        "        b[self.x,self.y,:]=256\n",
        "        b[-2:,:,:]=0\n",
        "        b[:,-2:,:]=0\n",
        "        b[:2,:,:]=0\n",
        "        b[:,:2,:]=0\n",
        "        \n",
        "        b =  cv2.resize(b, None, fx=self.scale, fy=self.scale, interpolation=cv2.INTER_NEAREST)\n",
        "\n",
        "        self.to_draw[t,:,:,:]=b\n",
        "\n",
        "\n",
        "    def act(self, action, train=False):\n",
        "        \"\"\"This function returns the new state, reward and decides if the\n",
        "        game ends.\"\"\"\n",
        "\n",
        "        self.get_frame(int(self.t))\n",
        "\n",
        "        self.position = np.zeros((self.grid_size, self.grid_size))\n",
        "\n",
        "        self.position[0:2,:]= -1\n",
        "        self.position[:,0:2] = -1\n",
        "        self.position[-2:, :] = -1\n",
        "        self.position[-2:, :] = -1\n",
        "\n",
        "        self.position[self.x, self.y] = 1\n",
        "        if action == 0:\n",
        "            if self.x == self.grid_size-3:\n",
        "                self.x = self.x-1\n",
        "            else:\n",
        "                self.x = self.x + 1\n",
        "        elif action == 1:\n",
        "            if self.x == 2:\n",
        "                self.x = self.x+1\n",
        "            else:\n",
        "                self.x = self.x-1\n",
        "        elif action == 2:\n",
        "            if self.y == self.grid_size - 3:\n",
        "                self.y = self.y - 1\n",
        "            else:\n",
        "                self.y = self.y + 1\n",
        "        elif action == 3:\n",
        "            if self.y == 2:\n",
        "                self.y = self.y + 1\n",
        "            else:\n",
        "                self.y = self.y - 1\n",
        "        else:\n",
        "            RuntimeError('Error: action not recognized')\n",
        "\n",
        "        self.t = self.t + 1\n",
        "        reward = 0\n",
        "\n",
        "        if train:\n",
        "            reward = -self.malus_position[self.x, self.y]\n",
        " \n",
        "        if self.malus_position[self.x, self.y] == 0:\n",
        "            self.malus_position[self.x, self.y] = 0.1 # we put a 0.1 of malus on this case if we had not explored it\n",
        "        else:\n",
        "            # We multiply by 1.2 if already have explore the case to avoid loops\n",
        "            # but we let the explored cases give less penalty than the poisons\n",
        "            self.malus_position[self.x, self.y] *= 1.2 if self.malus_position[self.x, self.y] < 1/1.2 else 1\n",
        "\n",
        "\n",
        "        reward = reward + self.board[self.x, self.y]\n",
        "        actual_reward = self.board[self.x, self.y]\n",
        "        self.board[self.x, self.y] = 0\n",
        "        game_over = self.t > self.max_time\n",
        "        state = np.concatenate((self.malus_position.reshape(self.grid_size, self.grid_size,1),\n",
        "                        self.board.reshape(self.grid_size, self.grid_size,1),\n",
        "                        self.position.reshape(self.grid_size, self.grid_size,1)),axis=2)\n",
        "        state = state[self.x-2:self.x+3,self.y-2:self.y+3,:]\n",
        "        \n",
        "        return state, reward, game_over, actual_reward\n",
        "\n",
        "    def reset(self):\n",
        "        \"\"\"This function resets the game and returns the initial state\"\"\"\n",
        "\n",
        "        self.x = np.random.randint(3, self.grid_size-3, size=1)[0]\n",
        "        self.y = np.random.randint(3, self.grid_size-3, size=1)[0]\n",
        "\n",
        "\n",
        "        bonus = 0.5*np.random.binomial(1,self.temperature,size=self.grid_size**2)\n",
        "        bonus = bonus.reshape(self.grid_size,self.grid_size)\n",
        "\n",
        "        malus = -1.0*np.random.binomial(1,self.temperature,size=self.grid_size**2)\n",
        "        malus = malus.reshape(self.grid_size, self.grid_size)\n",
        "\n",
        "        self.to_draw = np.zeros((self.max_time+2, self.grid_size*self.scale, self.grid_size*self.scale, 3))\n",
        "\n",
        "\n",
        "        malus[bonus>0]=0\n",
        "\n",
        "        self.board = bonus + malus\n",
        "        self.malus_position = np.zeros((self.grid_size,self.grid_size))\n",
        "        self.position = np.zeros((self.grid_size, self.grid_size))\n",
        "\n",
        "        self.position[0:2,:]= -1\n",
        "        self.position[:,0:2] = -1\n",
        "        self.position[-2:, :] = -1\n",
        "        self.position[-2:, :] = -1\n",
        "        self.board[self.x,self.y] = 0\n",
        "        self.t = 0\n",
        "\n",
        "        state = np.concatenate((self.malus_position.reshape(self.grid_size, self.grid_size,1),\n",
        "                               self.board.reshape(self.grid_size, self.grid_size,1),\n",
        "                        self.position.reshape(self.grid_size, self.grid_size,1)),axis=2)\n",
        "\n",
        "        state = state[self.x - 2:self.x + 3, self.y - 2:self.y + 3, :]\n",
        "        return state\n",
        "    "
      ],
      "execution_count": 0,
      "outputs": []
    },
    {
      "cell_type": "code",
      "metadata": {
        "id": "B8WQi2qcSsO9",
        "colab_type": "code",
        "outputId": "9e172d98-b5b4-44db-d180-f5f09466efc0",
        "colab": {
          "base_uri": "https://localhost:8080/",
          "height": 1000
        }
      },
      "source": [
        "# Training\n",
        "n_train = 101\n",
        "env = EnvironmentExploring(grid_size=size, max_time=T, temperature=0.3)\n",
        "agent = DQN_CNN(size, lr=.1, epsilon=0.1, memory_size=2000, batch_size = 64, n_state=3)\n",
        "hist = train_explore(agent, env, n_train, prefix='cnn_train_explore')\n",
        "vid_name = 'cnn_train_explore{}.mp4'.format(n_train - 1)\n",
        "HTML(display_videos(vid_name))"
      ],
      "execution_count": 26,
      "outputs": [
        {
          "output_type": "stream",
          "text": [
            "Training model starting with epsilon= 0.1\n",
            "Epoch 000/101 | Loss 0.0212 | Actual Win/lose count 12.0/8.0 (4.0)\n",
            "Epoch 001/101 | Loss 0.0222 | Actual Win/lose count 12.0/13.0 (-1.0)\n",
            "Epoch 002/101 | Loss 0.0185 | Actual Win/lose count 11.5/6.0 (5.5)\n",
            "Epoch 003/101 | Loss 0.0151 | Actual Win/lose count 11.0/5.0 (6.0)\n",
            "Epoch 004/101 | Loss 0.0160 | Actual Win/lose count 14.0/6.0 (8.0)\n",
            "Epoch 005/101 | Loss 0.0294 | Actual Win/lose count 16.5/5.0 (11.5)\n",
            "Epoch 006/101 | Loss 0.0172 | Actual Win/lose count 21.5/5.0 (16.5)\n",
            "Epoch 007/101 | Loss 0.0159 | Actual Win/lose count 9.0/4.0 (5.0)\n",
            "Epoch 008/101 | Loss 0.0121 | Actual Win/lose count 11.5/1.0 (10.5)\n",
            "Epoch 009/101 | Loss 0.0199 | Actual Win/lose count 11.5/6.0 (5.5)\n",
            "Epoch 010/101 | Loss 0.0241 | Actual Win/lose count 26.5/3.0 (23.5)\n",
            "Epoch 011/101 | Loss 0.0401 | Actual Win/lose count 20.0/3.0 (17.0)\n",
            "Epoch 012/101 | Loss 0.0971 | Actual Win/lose count 17.5/6.0 (11.5)\n",
            "Epoch 013/101 | Loss 0.0197 | Actual Win/lose count 20.0/3.0 (17.0)\n",
            "Epoch 014/101 | Loss 0.0104 | Actual Win/lose count 23.0/5.0 (18.0)\n",
            "Epoch 015/101 | Loss 0.0175 | Actual Win/lose count 19.0/6.0 (13.0)\n",
            "Epoch 016/101 | Loss 0.0231 | Actual Win/lose count 14.0/13.0 (1.0)\n",
            "Epoch 017/101 | Loss 0.0327 | Actual Win/lose count 15.5/4.0 (11.5)\n",
            "Epoch 018/101 | Loss 0.0159 | Actual Win/lose count 11.5/5.0 (6.5)\n",
            "Epoch 019/101 | Loss 0.0233 | Actual Win/lose count 24.5/0 (24.5)\n",
            "Epoch 020/101 | Loss 0.0220 | Actual Win/lose count 21.0/5.0 (16.0)\n",
            "Epoch 021/101 | Loss 0.0296 | Actual Win/lose count 20.0/5.0 (15.0)\n",
            "Epoch 022/101 | Loss 0.0250 | Actual Win/lose count 16.0/5.0 (11.0)\n",
            "Epoch 023/101 | Loss 0.0288 | Actual Win/lose count 21.5/4.0 (17.5)\n",
            "Epoch 024/101 | Loss 0.0139 | Actual Win/lose count 21.5/8.0 (13.5)\n",
            "Epoch 025/101 | Loss 0.0345 | Actual Win/lose count 17.0/4.0 (13.0)\n",
            "Epoch 026/101 | Loss 0.0225 | Actual Win/lose count 16.5/6.0 (10.5)\n",
            "Epoch 027/101 | Loss 0.0276 | Actual Win/lose count 15.5/13.0 (2.5)\n",
            "Epoch 028/101 | Loss 0.0316 | Actual Win/lose count 17.0/6.0 (11.0)\n",
            "Epoch 029/101 | Loss 0.0280 | Actual Win/lose count 23.5/9.0 (14.5)\n",
            "Epoch 030/101 | Loss 0.0262 | Actual Win/lose count 28.5/6.0 (22.5)\n",
            "Epoch 031/101 | Loss 0.0285 | Actual Win/lose count 19.5/8.0 (11.5)\n",
            "Epoch 032/101 | Loss 0.0236 | Actual Win/lose count 25.0/11.0 (14.0)\n",
            "Epoch 033/101 | Loss 0.0333 | Actual Win/lose count 20.0/9.0 (11.0)\n",
            "Epoch 034/101 | Loss 0.0236 | Actual Win/lose count 22.5/9.0 (13.5)\n",
            "Epoch 035/101 | Loss 0.0282 | Actual Win/lose count 19.5/8.0 (11.5)\n",
            "Epoch 036/101 | Loss 0.0254 | Actual Win/lose count 25.5/8.0 (17.5)\n",
            "Epoch 037/101 | Loss 0.0216 | Actual Win/lose count 24.5/7.0 (17.5)\n",
            "Epoch 038/101 | Loss 0.0171 | Actual Win/lose count 27.5/7.0 (20.5)\n",
            "Epoch 039/101 | Loss 0.0223 | Actual Win/lose count 26.0/10.0 (16.0)\n",
            "Epoch 040/101 | Loss 0.0217 | Actual Win/lose count 21.0/7.0 (14.0)\n",
            "Epoch 041/101 | Loss 0.0298 | Actual Win/lose count 23.5/7.0 (16.5)\n",
            "Epoch 042/101 | Loss 0.0261 | Actual Win/lose count 18.5/3.0 (15.5)\n",
            "Epoch 043/101 | Loss 0.0414 | Actual Win/lose count 20.0/4.0 (16.0)\n",
            "Epoch 044/101 | Loss 0.0351 | Actual Win/lose count 25.5/3.0 (22.5)\n",
            "Epoch 045/101 | Loss 0.0221 | Actual Win/lose count 23.5/8.0 (15.5)\n",
            "Epoch 046/101 | Loss 0.0227 | Actual Win/lose count 23.0/8.0 (15.0)\n",
            "Epoch 047/101 | Loss 0.0230 | Actual Win/lose count 17.5/3.0 (14.5)\n",
            "Epoch 048/101 | Loss 0.0323 | Actual Win/lose count 23.0/7.0 (16.0)\n",
            "Epoch 049/101 | Loss 0.0421 | Actual Win/lose count 22.5/9.0 (13.5)\n",
            "Epoch 050/101 | Loss 0.0252 | Actual Win/lose count 21.0/4.0 (17.0)\n",
            "Epoch 051/101 | Loss 0.0273 | Actual Win/lose count 22.0/3.0 (19.0)\n",
            "Epoch 052/101 | Loss 0.0177 | Actual Win/lose count 21.0/4.0 (17.0)\n",
            "Epoch 053/101 | Loss 0.0222 | Actual Win/lose count 25.5/4.0 (21.5)\n",
            "Epoch 054/101 | Loss 0.0243 | Actual Win/lose count 25.5/11.0 (14.5)\n",
            "Epoch 055/101 | Loss 0.0190 | Actual Win/lose count 21.0/5.0 (16.0)\n",
            "Epoch 056/101 | Loss 0.0219 | Actual Win/lose count 20.0/8.0 (12.0)\n",
            "Epoch 057/101 | Loss 0.0334 | Actual Win/lose count 23.5/13.0 (10.5)\n",
            "Epoch 058/101 | Loss 0.0251 | Actual Win/lose count 23.0/4.0 (19.0)\n",
            "Epoch 059/101 | Loss 0.0213 | Actual Win/lose count 25.5/11.0 (14.5)\n",
            "Epoch 060/101 | Loss 0.0289 | Actual Win/lose count 24.0/9.0 (15.0)\n",
            "Epoch 061/101 | Loss 0.0155 | Actual Win/lose count 28.0/5.0 (23.0)\n",
            "Epoch 062/101 | Loss 0.0667 | Actual Win/lose count 20.0/11.0 (9.0)\n",
            "Epoch 063/101 | Loss 0.0148 | Actual Win/lose count 25.5/5.0 (20.5)\n",
            "Epoch 064/101 | Loss 0.0363 | Actual Win/lose count 22.5/7.0 (15.5)\n",
            "Epoch 065/101 | Loss 0.0151 | Actual Win/lose count 26.0/6.0 (20.0)\n",
            "Epoch 066/101 | Loss 0.0160 | Actual Win/lose count 23.5/9.0 (14.5)\n",
            "Epoch 067/101 | Loss 0.0216 | Actual Win/lose count 25.5/7.0 (18.5)\n",
            "Epoch 068/101 | Loss 0.0291 | Actual Win/lose count 23.5/7.0 (16.5)\n",
            "Epoch 069/101 | Loss 0.0168 | Actual Win/lose count 21.5/6.0 (15.5)\n",
            "Epoch 070/101 | Loss 0.0214 | Actual Win/lose count 26.0/5.0 (21.0)\n",
            "Epoch 071/101 | Loss 0.0311 | Actual Win/lose count 19.0/8.0 (11.0)\n",
            "Epoch 072/101 | Loss 0.0170 | Actual Win/lose count 22.0/6.0 (16.0)\n",
            "Epoch 073/101 | Loss 0.0193 | Actual Win/lose count 19.5/12.0 (7.5)\n",
            "Epoch 074/101 | Loss 0.0251 | Actual Win/lose count 30.5/15.0 (15.5)\n",
            "Epoch 075/101 | Loss 0.0422 | Actual Win/lose count 22.0/9.0 (13.0)\n",
            "Epoch 076/101 | Loss 0.0186 | Actual Win/lose count 22.0/9.0 (13.0)\n",
            "Epoch 077/101 | Loss 0.0290 | Actual Win/lose count 20.0/6.0 (14.0)\n",
            "Epoch 078/101 | Loss 0.0300 | Actual Win/lose count 18.5/6.0 (12.5)\n",
            "Epoch 079/101 | Loss 0.0296 | Actual Win/lose count 19.5/6.0 (13.5)\n",
            "Epoch 080/101 | Loss 0.0179 | Actual Win/lose count 21.5/10.0 (11.5)\n",
            "Epoch 081/101 | Loss 0.0207 | Actual Win/lose count 22.5/4.0 (18.5)\n",
            "Epoch 082/101 | Loss 0.0212 | Actual Win/lose count 26.5/4.0 (22.5)\n",
            "Epoch 083/101 | Loss 0.0227 | Actual Win/lose count 29.5/3.0 (26.5)\n",
            "Epoch 084/101 | Loss 0.0184 | Actual Win/lose count 25.0/4.0 (21.0)\n",
            "Epoch 085/101 | Loss 0.0222 | Actual Win/lose count 22.5/5.0 (17.5)\n",
            "Epoch 086/101 | Loss 0.0310 | Actual Win/lose count 23.5/7.0 (16.5)\n",
            "Epoch 087/101 | Loss 0.0176 | Actual Win/lose count 23.0/5.0 (18.0)\n",
            "Epoch 088/101 | Loss 0.0260 | Actual Win/lose count 24.5/5.0 (19.5)\n",
            "Epoch 089/101 | Loss 0.0260 | Actual Win/lose count 20.5/5.0 (15.5)\n",
            "Epoch 090/101 | Loss 0.0255 | Actual Win/lose count 25.0/4.0 (21.0)\n",
            "Epoch 091/101 | Loss 0.0202 | Actual Win/lose count 21.5/7.0 (14.5)\n",
            "Epoch 092/101 | Loss 0.0184 | Actual Win/lose count 25.5/13.0 (12.5)\n",
            "Epoch 093/101 | Loss 0.0271 | Actual Win/lose count 27.5/5.0 (22.5)\n",
            "Epoch 094/101 | Loss 0.0273 | Actual Win/lose count 19.5/7.0 (12.5)\n",
            "Epoch 095/101 | Loss 0.0269 | Actual Win/lose count 24.0/10.0 (14.0)\n",
            "Epoch 096/101 | Loss 0.0400 | Actual Win/lose count 22.0/3.0 (19.0)\n",
            "Epoch 097/101 | Loss 0.0278 | Actual Win/lose count 22.5/6.0 (16.5)\n",
            "Epoch 098/101 | Loss 0.0343 | Actual Win/lose count 21.5/4.0 (17.5)\n",
            "Epoch 099/101 | Loss 0.0312 | Actual Win/lose count 19.5/8.0 (11.5)\n",
            "Epoch 100/101 | Loss 0.0281 | Actual Win/lose count 27.0/11.0 (16.0)\n",
            "0.0008097328521278789\n"
          ],
          "name": "stdout"
        },
        {
          "output_type": "execute_result",
          "data": {
            "text/html": [
              "<video alt=\"test\" controls>\n",
              "                <source src=\"data:video/mp4;base64,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\" type=\"video/mp4\" />\n",
              "             </video>"
            ],
            "text/plain": [
              "<IPython.core.display.HTML object>"
            ]
          },
          "metadata": {
            "tags": []
          },
          "execution_count": 26
        }
      ]
    },
    {
      "cell_type": "code",
      "metadata": {
        "id": "YD8DVAxLSsO-",
        "colab_type": "code",
        "outputId": "105ca315-f63f-4552-c547-c69cc5640b31",
        "colab": {
          "base_uri": "https://localhost:8080/",
          "height": 565
        }
      },
      "source": [
        "# Evaluation\n",
        "test(agent,env,epochs_test,prefix='cnn_test_explore', with_actual=True)\n",
        "HTML(display_videos('cnn_test_explore10.mp4'))"
      ],
      "execution_count": 27,
      "outputs": [
        {
          "output_type": "stream",
          "text": [
            "Win/lose count 25.5/4.0. Average score (21.5)\n",
            "Win/lose count 28.5/4.0. Average score (23.0)\n",
            "Win/lose count 21.0/7.0. Average score (20.0)\n",
            "Win/lose count 32.5/8.0. Average score (21.125)\n",
            "Win/lose count 21.0/9.0. Average score (19.3)\n",
            "Win/lose count 19.0/5.0. Average score (18.416666666666668)\n",
            "Win/lose count 27.0/6.0. Average score (18.785714285714285)\n",
            "Win/lose count 24.0/4.0. Average score (18.9375)\n",
            "Win/lose count 25.5/4.0. Average score (19.22222222222222)\n",
            "Win/lose count 23.0/8.0. Average score (18.8)\n",
            "Win/lose count 24.5/8.0. Average score (18.59090909090909)\n",
            "Win/lose count 25.5/5.0. Average score (18.75)\n",
            "Win/lose count 27.0/3.0. Average score (19.153846153846153)\n",
            "Win/lose count 20.0/8.0. Average score (18.642857142857142)\n",
            "Win/lose count 24.5/6.0. Average score (18.633333333333333)\n",
            "Final score: 18.633333333333333\n"
          ],
          "name": "stdout"
        },
        {
          "output_type": "execute_result",
          "data": {
            "text/html": [
              "<video alt=\"test\" controls>\n",
              "                <source src=\"data:video/mp4;base64,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\" type=\"video/mp4\" />\n",
              "             </video>"
            ],
            "text/plain": [
              "<IPython.core.display.HTML object>"
            ]
          },
          "metadata": {
            "tags": []
          },
          "execution_count": 27
        }
      ]
    },
    {
      "cell_type": "markdown",
      "metadata": {
        "id": "dQp2vhh-SsPA",
        "colab_type": "text"
      },
      "source": [
        "***\n",
        "***\n",
        "__BONUS question__ Use the expert DQN from the previous question to generate some winning games. Train a model that mimicks its behavior. Compare the performances."
      ]
    },
    {
      "cell_type": "markdown",
      "metadata": {
        "id": "DxJNUfvdSsPA",
        "colab_type": "text"
      },
      "source": [
        ""
      ]
    },
    {
      "cell_type": "markdown",
      "metadata": {
        "id": "BBie-UFVSsPB",
        "colab_type": "text"
      },
      "source": [
        "***"
      ]
    }
  ]
}